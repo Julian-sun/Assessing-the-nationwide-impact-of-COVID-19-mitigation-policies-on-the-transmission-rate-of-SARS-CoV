{
 "cells": [
  {
   "cell_type": "code",
   "execution_count": 1,
   "metadata": {},
   "outputs": [],
   "source": [
    "import numpy as np\n",
    "import matplotlib.pyplot as plt\n",
    "from scipy.integrate import odeint\n",
    "from scipy.optimize import least_squares\n",
    "import math\n",
    "import pandas as pd\n",
    "import csv\n",
    "from scipy import stats\n",
    "from scipy import optimize\n",
    "from datetime import date, timedelta\n",
    "import random\n",
    "import requests\n",
    "from scipy.stats import truncnorm"
   ]
  },
  {
   "cell_type": "markdown",
   "metadata": {},
   "source": [
    "# Data description"
   ]
  },
  {
   "cell_type": "code",
   "execution_count": 2,
   "metadata": {},
   "outputs": [],
   "source": [
    "df = pd.read_csv('/Users/julianeoliveira/Desktop/dropbox_15_11_2019/Artigos_preprints/COVID19/Paper_submissions/Paper2/Assessing-the-nationwide-impact-of-COVID-19-mitigation-policies-on-the-transmission-rate-of-SARS-CoV/data/covid.csv')"
   ]
  },
  {
   "cell_type": "code",
   "execution_count": 23,
   "metadata": {},
   "outputs": [],
   "source": [
    "pop = pd.read_csv('/Users/julianeoliveira/Desktop/dropbox_15_11_2019/Artigos_preprints/COVID19/Paper_submissions/Paper2/Assessing-the-nationwide-impact-of-COVID-19-mitigation-policies-on-the-transmission-rate-of-SARS-CoV/results/seiir_bootstrap/populacao_municipio.csv')"
   ]
  },
  {
   "cell_type": "code",
   "execution_count": 3,
   "metadata": {
    "scrolled": true
   },
   "outputs": [
    {
     "data": {
      "text/html": [
       "<div>\n",
       "<style scoped>\n",
       "    .dataframe tbody tr th:only-of-type {\n",
       "        vertical-align: middle;\n",
       "    }\n",
       "\n",
       "    .dataframe tbody tr th {\n",
       "        vertical-align: top;\n",
       "    }\n",
       "\n",
       "    .dataframe thead th {\n",
       "        text-align: right;\n",
       "    }\n",
       "</style>\n",
       "<table border=\"1\" class=\"dataframe\">\n",
       "  <thead>\n",
       "    <tr style=\"text-align: right;\">\n",
       "      <th></th>\n",
       "      <th>epidemiological_week</th>\n",
       "      <th>date</th>\n",
       "      <th>order_for_place</th>\n",
       "      <th>state</th>\n",
       "      <th>city</th>\n",
       "      <th>city_ibge_code</th>\n",
       "      <th>place_type</th>\n",
       "      <th>last_available_confirmed</th>\n",
       "      <th>last_available_confirmed_per_100k_inhabitants</th>\n",
       "      <th>new_confirmed</th>\n",
       "      <th>last_available_deaths</th>\n",
       "      <th>new_deaths</th>\n",
       "      <th>last_available_death_rate</th>\n",
       "      <th>estimated_population_2019</th>\n",
       "      <th>is_last</th>\n",
       "      <th>is_repeated</th>\n",
       "    </tr>\n",
       "  </thead>\n",
       "  <tbody>\n",
       "    <tr>\n",
       "      <th>0</th>\n",
       "      <td>23</td>\n",
       "      <td>2020-06-01</td>\n",
       "      <td>65</td>\n",
       "      <td>AC</td>\n",
       "      <td>Acrelândia</td>\n",
       "      <td>1200013.0</td>\n",
       "      <td>city</td>\n",
       "      <td>158</td>\n",
       "      <td>1035.65810</td>\n",
       "      <td>0</td>\n",
       "      <td>1</td>\n",
       "      <td>0</td>\n",
       "      <td>0.0063</td>\n",
       "      <td>15256.0</td>\n",
       "      <td>True</td>\n",
       "      <td>False</td>\n",
       "    </tr>\n",
       "    <tr>\n",
       "      <th>1</th>\n",
       "      <td>23</td>\n",
       "      <td>2020-06-01</td>\n",
       "      <td>32</td>\n",
       "      <td>AC</td>\n",
       "      <td>Assis Brasil</td>\n",
       "      <td>1200054.0</td>\n",
       "      <td>city</td>\n",
       "      <td>28</td>\n",
       "      <td>377.51112</td>\n",
       "      <td>1</td>\n",
       "      <td>2</td>\n",
       "      <td>0</td>\n",
       "      <td>0.0714</td>\n",
       "      <td>7417.0</td>\n",
       "      <td>True</td>\n",
       "      <td>False</td>\n",
       "    </tr>\n",
       "    <tr>\n",
       "      <th>2</th>\n",
       "      <td>23</td>\n",
       "      <td>2020-06-01</td>\n",
       "      <td>24</td>\n",
       "      <td>AC</td>\n",
       "      <td>Brasiléia</td>\n",
       "      <td>1200104.0</td>\n",
       "      <td>city</td>\n",
       "      <td>38</td>\n",
       "      <td>144.60766</td>\n",
       "      <td>1</td>\n",
       "      <td>2</td>\n",
       "      <td>0</td>\n",
       "      <td>0.0526</td>\n",
       "      <td>26278.0</td>\n",
       "      <td>True</td>\n",
       "      <td>False</td>\n",
       "    </tr>\n",
       "    <tr>\n",
       "      <th>3</th>\n",
       "      <td>23</td>\n",
       "      <td>2020-06-01</td>\n",
       "      <td>55</td>\n",
       "      <td>AC</td>\n",
       "      <td>Bujari</td>\n",
       "      <td>1200138.0</td>\n",
       "      <td>city</td>\n",
       "      <td>49</td>\n",
       "      <td>477.30372</td>\n",
       "      <td>0</td>\n",
       "      <td>2</td>\n",
       "      <td>0</td>\n",
       "      <td>0.0408</td>\n",
       "      <td>10266.0</td>\n",
       "      <td>True</td>\n",
       "      <td>False</td>\n",
       "    </tr>\n",
       "    <tr>\n",
       "      <th>4</th>\n",
       "      <td>23</td>\n",
       "      <td>2020-06-01</td>\n",
       "      <td>25</td>\n",
       "      <td>AC</td>\n",
       "      <td>Capixaba</td>\n",
       "      <td>1200179.0</td>\n",
       "      <td>city</td>\n",
       "      <td>40</td>\n",
       "      <td>340.91878</td>\n",
       "      <td>0</td>\n",
       "      <td>1</td>\n",
       "      <td>0</td>\n",
       "      <td>0.0250</td>\n",
       "      <td>11733.0</td>\n",
       "      <td>True</td>\n",
       "      <td>False</td>\n",
       "    </tr>\n",
       "  </tbody>\n",
       "</table>\n",
       "</div>"
      ],
      "text/plain": [
       "   epidemiological_week        date  order_for_place state          city  \\\n",
       "0                    23  2020-06-01               65    AC    Acrelândia   \n",
       "1                    23  2020-06-01               32    AC  Assis Brasil   \n",
       "2                    23  2020-06-01               24    AC     Brasiléia   \n",
       "3                    23  2020-06-01               55    AC        Bujari   \n",
       "4                    23  2020-06-01               25    AC      Capixaba   \n",
       "\n",
       "   city_ibge_code place_type  last_available_confirmed  \\\n",
       "0       1200013.0       city                       158   \n",
       "1       1200054.0       city                        28   \n",
       "2       1200104.0       city                        38   \n",
       "3       1200138.0       city                        49   \n",
       "4       1200179.0       city                        40   \n",
       "\n",
       "   last_available_confirmed_per_100k_inhabitants  new_confirmed  \\\n",
       "0                                     1035.65810              0   \n",
       "1                                      377.51112              1   \n",
       "2                                      144.60766              1   \n",
       "3                                      477.30372              0   \n",
       "4                                      340.91878              0   \n",
       "\n",
       "   last_available_deaths  new_deaths  last_available_death_rate  \\\n",
       "0                      1           0                     0.0063   \n",
       "1                      2           0                     0.0714   \n",
       "2                      2           0                     0.0526   \n",
       "3                      2           0                     0.0408   \n",
       "4                      1           0                     0.0250   \n",
       "\n",
       "   estimated_population_2019  is_last  is_repeated  \n",
       "0                    15256.0     True        False  \n",
       "1                     7417.0     True        False  \n",
       "2                    26278.0     True        False  \n",
       "3                    10266.0     True        False  \n",
       "4                    11733.0     True        False  "
      ]
     },
     "execution_count": 3,
     "metadata": {},
     "output_type": "execute_result"
    }
   ],
   "source": [
    "df.head()"
   ]
  },
  {
   "cell_type": "code",
   "execution_count": 14,
   "metadata": {},
   "outputs": [],
   "source": [
    "df = df[df.date <= '2020-05-22']"
   ]
  },
  {
   "cell_type": "code",
   "execution_count": 15,
   "metadata": {},
   "outputs": [
    {
     "data": {
      "text/plain": [
       "array(['AC', 'AL', 'AM', 'AP', 'BA', 'CE', 'DF', 'ES', 'GO', 'MA', 'MG',\n",
       "       'MS', 'MT', 'PA', 'PB', 'PE', 'PI', 'PR', 'RJ', 'RN', 'RO', 'RR',\n",
       "       'RS', 'SC', 'SE', 'SP', 'TO'], dtype=object)"
      ]
     },
     "execution_count": 15,
     "metadata": {},
     "output_type": "execute_result"
    }
   ],
   "source": [
    "df.state.unique()"
   ]
  },
  {
   "cell_type": "code",
   "execution_count": 16,
   "metadata": {
    "scrolled": true
   },
   "outputs": [
    {
     "data": {
      "text/plain": [
       "334555"
      ]
     },
     "execution_count": 16,
     "metadata": {},
     "output_type": "execute_result"
    }
   ],
   "source": [
    "# Number of confirmed cases up to May 22\n",
    "\n",
    "df.new_confirmed.sum()"
   ]
  },
  {
   "cell_type": "code",
   "execution_count": 31,
   "metadata": {},
   "outputs": [
    {
     "data": {
      "text/plain": [
       "0.22977088968928874"
      ]
     },
     "execution_count": 31,
     "metadata": {},
     "output_type": "execute_result"
    }
   ],
   "source": [
    "76871/334555"
   ]
  },
  {
   "cell_type": "code",
   "execution_count": 22,
   "metadata": {
    "scrolled": false
   },
   "outputs": [
    {
     "data": {
      "text/plain": [
       "state\n",
       "AC     3343\n",
       "AL     5300\n",
       "AM    27038\n",
       "AP     5655\n",
       "BA    12558\n",
       "CE    34573\n",
       "DF     5948\n",
       "ES     9520\n",
       "GO     2344\n",
       "MA    18767\n",
       "MG     5995\n",
       "MS      805\n",
       "MT     1271\n",
       "PA    22697\n",
       "PB     6882\n",
       "PE    25760\n",
       "PI     3258\n",
       "PR     2985\n",
       "RJ    33589\n",
       "RN     4598\n",
       "RO     2774\n",
       "RR     2296\n",
       "RS     5918\n",
       "SC     6458\n",
       "SE     4922\n",
       "SP    76871\n",
       "TO     2430\n",
       "Name: new_confirmed, dtype: int64"
      ]
     },
     "execution_count": 22,
     "metadata": {},
     "output_type": "execute_result"
    }
   ],
   "source": [
    "# Number of confirmed cases up to May 22 by states\n",
    "\n",
    "df.groupby(['state'])['new_confirmed'].sum()"
   ]
  },
  {
   "cell_type": "code",
   "execution_count": 27,
   "metadata": {
    "scrolled": false
   },
   "outputs": [
    {
     "data": {
      "text/plain": [
       "ARmaior\n",
       "ACRE                   8.944700e+05\n",
       "ALAGOAS                3.351092e+06\n",
       "AMAPÁ                  8.617730e+05\n",
       "AMAZONAS               4.207714e+06\n",
       "BAHIA                  1.493042e+07\n",
       "CEARÁ                  9.187886e+06\n",
       "DISTRITO FEDERAL       3.052546e+06\n",
       "ESPÍRITO SANTO         4.064052e+06\n",
       "GOIÁS                  7.116143e+06\n",
       "MARANHÃO               7.114598e+06\n",
       "MATO GROSSO            3.526220e+06\n",
       "MATO GROSSO DO SUL     2.809394e+06\n",
       "MINAS GERAIS           2.129267e+07\n",
       "PARANÁ                 1.151684e+07\n",
       "PARAÍBA                4.039277e+06\n",
       "PARÁ                   8.690745e+06\n",
       "PERNAMBUCO             9.617072e+06\n",
       "PIAUÍ                  3.280697e+06\n",
       "RIO DE JANEIRO         1.736619e+07\n",
       "RIO GRANDE DO NORTE    3.534165e+06\n",
       "RIO GRANDE DO SUL      1.142297e+07\n",
       "RONDÔNIA               1.796460e+06\n",
       "RORAIMA                6.311810e+05\n",
       "SANTA CATARINA         7.252502e+06\n",
       "SERGIPE                2.319032e+06\n",
       "SÃO PAULO              4.628933e+07\n",
       "TOCANTINS              1.590248e+06\n",
       "Name: Total, dtype: float64"
      ]
     },
     "execution_count": 27,
     "metadata": {},
     "output_type": "execute_result"
    }
   ],
   "source": [
    "pop.groupby(['ARmaior'])['Total'].sum()"
   ]
  },
  {
   "cell_type": "markdown",
   "metadata": {},
   "source": [
    "AC, Acre; AL, Alagoas; AP, Amapá; AM, Amazonas; BA, Bahia; CE, Ceará; \n",
    "\n",
    "DF, Distrito Federal; ES, Espírito Santo; GO, Goiás; MA, Maranhão; MT, Mato Grosso; \n",
    "\n",
    "MS, Mato Grosso do Sul; MG, Minas Gerais; PA, Pará; PB, Paraíba; PR, Paraná; PE, Pernambuco;\n",
    "\n",
    "PI, Piauí; RJ, Rio de Janeiro; RN, Rio Grande do Norte; RS, Rio Grande do Sul; \n",
    "\n",
    "RO, Rondônia; RR, Roraima; SC, Santa Catarina; SP, São Paulo; SE, Sergipe; TO, Tocantins."
   ]
  },
  {
   "cell_type": "code",
   "execution_count": 30,
   "metadata": {},
   "outputs": [
    {
     "name": "stdout",
     "output_type": "stream",
     "text": [
      "AC 373.7408744843315\n",
      "AL 158.15740063239087\n",
      "AM 642.5816963795543\n",
      "AP 656.2052883996133\n",
      "BA 84.11015899083884\n",
      "CE 376.28895264917304\n",
      "DF 194.853738485841\n",
      "ES 234.2489712237934\n",
      "GO 32.939191918993195\n",
      "MA 263.7815938440935\n",
      "MG 28.15522900603823\n",
      "MS 28.653866278635178\n",
      "MT 36.044262694897085\n",
      "PA 261.1628807426751\n",
      "PB 170.3770253934058\n",
      "PE 267.8569943117822\n",
      "PI 99.30816530755507\n",
      "PR 25.91856794051146\n",
      "RJ 193.4160572929353\n",
      "RN 130.10145253546452\n",
      "RO 154.4147935384033\n",
      "RR 363.7625340433251\n",
      "RS 51.80789234323473\n",
      "SC 89.04513228676117\n",
      "SE 212.24372928014793\n",
      "SP 166.06634833556674\n",
      "TO 152.8063547320921\n"
     ]
    }
   ],
   "source": [
    "print('AC',   3343*100000/8.944700e+05)\n",
    "print('AL',     5300*100000/3.351092e+06)\n",
    "print('AM',    27038*100000/4.207714e+06)\n",
    "print('AP',    5655*100000/8.617730e+05)\n",
    "print('BA',    12558*100000/1.493042e+07)\n",
    "print('CE',    34573*100000/9.187886e+06)\n",
    "print('DF',     5948*100000/3.052546e+06)\n",
    "print('ES',     9520*100000/4.064052e+06)\n",
    "print('GO',    2344*100000/7.116143e+06)\n",
    "print('MA',    18767*100000/7.114598e+06)\n",
    "print('MG',     5995*100000/2.129267e+07)\n",
    "print('MS',      805*100000/2.809394e+06)\n",
    "print('MT',     1271*100000/3.526220e+06)\n",
    "print('PA',    22697*100000/8.690745e+06)\n",
    "print('PB',     6882*100000/4.039277e+06)\n",
    "print('PE',    25760*100000/9.617072e+06)\n",
    "print('PI',     3258*100000/3.280697e+06)\n",
    "print('PR',     2985*100000/1.151684e+07)\n",
    "print('RJ',    33589*100000/1.736619e+07)\n",
    "print('RN',     4598*100000/3.534165e+06)\n",
    "print('RO',     2774*100000/1.796460e+06)\n",
    "print('RR',     2296*100000/6.311810e+05)\n",
    "print('RS',     5918*100000/1.142297e+07)\n",
    "print('SC',     6458*100000/7.252502e+06)\n",
    "print('SE',     4922*100000/2.319032e+06)\n",
    "print('SP',    76871*100000/4.628933e+07)\n",
    "print('TO',     2430*100000/1.590248e+06)           "
   ]
  },
  {
   "cell_type": "code",
   "execution_count": 18,
   "metadata": {},
   "outputs": [
    {
     "data": {
      "text/plain": [
       "21146"
      ]
     },
     "execution_count": 18,
     "metadata": {},
     "output_type": "execute_result"
    }
   ],
   "source": [
    "# Number of deaths up to May 22\n",
    "\n",
    "df.new_deaths.sum()"
   ]
  },
  {
   "cell_type": "code",
   "execution_count": 17,
   "metadata": {},
   "outputs": [
    {
     "data": {
      "text/plain": [
       "2566"
      ]
     },
     "execution_count": 17,
     "metadata": {},
     "output_type": "execute_result"
    }
   ],
   "source": [
    "# Number of confirmed cases up to March 25\n",
    "\n",
    "df[df.date <= '2020-03-25'].new_confirmed.sum()"
   ]
  },
  {
   "cell_type": "code",
   "execution_count": 19,
   "metadata": {},
   "outputs": [
    {
     "data": {
      "text/plain": [
       "59"
      ]
     },
     "execution_count": 19,
     "metadata": {},
     "output_type": "execute_result"
    }
   ],
   "source": [
    "# Number of deaths up to March 25\n",
    "\n",
    "df[df.date <= '2020-03-25'].new_deaths.sum()"
   ]
  },
  {
   "cell_type": "markdown",
   "metadata": {},
   "source": [
    "# Analysis of the fit results"
   ]
  },
  {
   "cell_type": "code",
   "execution_count": 2,
   "metadata": {},
   "outputs": [],
   "source": [
    "df = pd.read_csv('/media/juliane_oliveira/My Passport/dropbox_15_11_2019/Artigos_preprints/COVID19/Paper_submissions/Paper2/First review/Data and code analisys/outputs_testing/test_seiir_fits_boots.csv')"
   ]
  },
  {
   "cell_type": "code",
   "execution_count": 3,
   "metadata": {
    "scrolled": false
   },
   "outputs": [
    {
     "data": {
      "text/html": [
       "<div>\n",
       "<style scoped>\n",
       "    .dataframe tbody tr th:only-of-type {\n",
       "        vertical-align: middle;\n",
       "    }\n",
       "\n",
       "    .dataframe tbody tr th {\n",
       "        vertical-align: top;\n",
       "    }\n",
       "\n",
       "    .dataframe thead th {\n",
       "        text-align: right;\n",
       "    }\n",
       "</style>\n",
       "<table border=\"1\" class=\"dataframe\">\n",
       "  <thead>\n",
       "    <tr style=\"text-align: right;\">\n",
       "      <th></th>\n",
       "      <th>Unnamed: 0</th>\n",
       "      <th>state</th>\n",
       "      <th>type</th>\n",
       "      <th>beta0_ls</th>\n",
       "      <th>beta0_ml</th>\n",
       "      <th>beta1_ls</th>\n",
       "      <th>beta1_ml</th>\n",
       "      <th>tcut_ls</th>\n",
       "      <th>tcut_ml</th>\n",
       "      <th>delta_ls</th>\n",
       "      <th>delta_ml</th>\n",
       "      <th>e0_ls</th>\n",
       "      <th>e0_ml</th>\n",
       "      <th>ia0_ls</th>\n",
       "      <th>ia0_ml</th>\n",
       "      <th>is0_ls</th>\n",
       "      <th>is0_ml</th>\n",
       "    </tr>\n",
       "  </thead>\n",
       "  <tbody>\n",
       "    <tr>\n",
       "      <th>0</th>\n",
       "      <td>0</td>\n",
       "      <td>AM</td>\n",
       "      <td>estado</td>\n",
       "      <td>1.233434</td>\n",
       "      <td>1.763611</td>\n",
       "      <td>0.591353</td>\n",
       "      <td>0.708238</td>\n",
       "      <td>93.952321</td>\n",
       "      <td>94.368859</td>\n",
       "      <td>0.700000</td>\n",
       "      <td>0.515792</td>\n",
       "      <td>0.000002</td>\n",
       "      <td>4.753044e-07</td>\n",
       "      <td>0.000002</td>\n",
       "      <td>2.592675e-07</td>\n",
       "      <td>5.443991e-08</td>\n",
       "      <td>6.869455e-07</td>\n",
       "    </tr>\n",
       "    <tr>\n",
       "      <th>1</th>\n",
       "      <td>1</td>\n",
       "      <td>AM</td>\n",
       "      <td>estado</td>\n",
       "      <td>2.000000</td>\n",
       "      <td>1.549807</td>\n",
       "      <td>1.098894</td>\n",
       "      <td>0.748755</td>\n",
       "      <td>96.350096</td>\n",
       "      <td>98.546809</td>\n",
       "      <td>0.247201</td>\n",
       "      <td>0.460819</td>\n",
       "      <td>0.000002</td>\n",
       "      <td>1.031083e-07</td>\n",
       "      <td>0.000002</td>\n",
       "      <td>5.626661e-07</td>\n",
       "      <td>1.172151e-06</td>\n",
       "      <td>1.379001e-06</td>\n",
       "    </tr>\n",
       "    <tr>\n",
       "      <th>2</th>\n",
       "      <td>2</td>\n",
       "      <td>AM</td>\n",
       "      <td>estado</td>\n",
       "      <td>1.155266</td>\n",
       "      <td>1.515730</td>\n",
       "      <td>0.597303</td>\n",
       "      <td>0.812038</td>\n",
       "      <td>94.766717</td>\n",
       "      <td>98.251489</td>\n",
       "      <td>0.699067</td>\n",
       "      <td>0.411809</td>\n",
       "      <td>0.000002</td>\n",
       "      <td>1.006499e-06</td>\n",
       "      <td>0.000002</td>\n",
       "      <td>1.721702e-06</td>\n",
       "      <td>5.789328e-07</td>\n",
       "      <td>1.715864e-06</td>\n",
       "    </tr>\n",
       "    <tr>\n",
       "      <th>3</th>\n",
       "      <td>3</td>\n",
       "      <td>AM</td>\n",
       "      <td>estado</td>\n",
       "      <td>1.997959</td>\n",
       "      <td>1.634999</td>\n",
       "      <td>1.019994</td>\n",
       "      <td>0.872344</td>\n",
       "      <td>93.934599</td>\n",
       "      <td>95.089442</td>\n",
       "      <td>0.290449</td>\n",
       "      <td>0.373129</td>\n",
       "      <td>0.000002</td>\n",
       "      <td>1.522335e-06</td>\n",
       "      <td>0.000002</td>\n",
       "      <td>1.858073e-06</td>\n",
       "      <td>8.602349e-07</td>\n",
       "      <td>1.931153e-06</td>\n",
       "    </tr>\n",
       "    <tr>\n",
       "      <th>4</th>\n",
       "      <td>4</td>\n",
       "      <td>AM</td>\n",
       "      <td>estado</td>\n",
       "      <td>1.213843</td>\n",
       "      <td>1.943396</td>\n",
       "      <td>0.593559</td>\n",
       "      <td>0.846689</td>\n",
       "      <td>94.450127</td>\n",
       "      <td>90.254304</td>\n",
       "      <td>0.700000</td>\n",
       "      <td>0.389947</td>\n",
       "      <td>0.000002</td>\n",
       "      <td>1.428494e-06</td>\n",
       "      <td>0.000002</td>\n",
       "      <td>1.129438e-06</td>\n",
       "      <td>5.052882e-08</td>\n",
       "      <td>1.651239e-06</td>\n",
       "    </tr>\n",
       "  </tbody>\n",
       "</table>\n",
       "</div>"
      ],
      "text/plain": [
       "   Unnamed: 0 state    type  beta0_ls  beta0_ml  beta1_ls  beta1_ml  \\\n",
       "0           0    AM  estado  1.233434  1.763611  0.591353  0.708238   \n",
       "1           1    AM  estado  2.000000  1.549807  1.098894  0.748755   \n",
       "2           2    AM  estado  1.155266  1.515730  0.597303  0.812038   \n",
       "3           3    AM  estado  1.997959  1.634999  1.019994  0.872344   \n",
       "4           4    AM  estado  1.213843  1.943396  0.593559  0.846689   \n",
       "\n",
       "     tcut_ls    tcut_ml  delta_ls  delta_ml     e0_ls         e0_ml    ia0_ls  \\\n",
       "0  93.952321  94.368859  0.700000  0.515792  0.000002  4.753044e-07  0.000002   \n",
       "1  96.350096  98.546809  0.247201  0.460819  0.000002  1.031083e-07  0.000002   \n",
       "2  94.766717  98.251489  0.699067  0.411809  0.000002  1.006499e-06  0.000002   \n",
       "3  93.934599  95.089442  0.290449  0.373129  0.000002  1.522335e-06  0.000002   \n",
       "4  94.450127  90.254304  0.700000  0.389947  0.000002  1.428494e-06  0.000002   \n",
       "\n",
       "         ia0_ml        is0_ls        is0_ml  \n",
       "0  2.592675e-07  5.443991e-08  6.869455e-07  \n",
       "1  5.626661e-07  1.172151e-06  1.379001e-06  \n",
       "2  1.721702e-06  5.789328e-07  1.715864e-06  \n",
       "3  1.858073e-06  8.602349e-07  1.931153e-06  \n",
       "4  1.129438e-06  5.052882e-08  1.651239e-06  "
      ]
     },
     "execution_count": 3,
     "metadata": {},
     "output_type": "execute_result"
    }
   ],
   "source": [
    "df.head()"
   ]
  },
  {
   "cell_type": "code",
   "execution_count": 11,
   "metadata": {},
   "outputs": [],
   "source": [
    "import scipy.stats\n",
    "\n",
    "\n",
    "def mean_confidence_interval(data, confidence=0.95):\n",
    "    a = 1.0 * np.array(data)\n",
    "    n = len(a)\n",
    "    m, se = np.median(a), scipy.stats.sem(a)\n",
    "    h = se * scipy.stats.skewnorm.ppf((1 + confidence) / 2., n-1)\n",
    "    return m, m-h, m+h\n"
   ]
  },
  {
   "cell_type": "code",
   "execution_count": 12,
   "metadata": {
    "scrolled": true
   },
   "outputs": [],
   "source": [
    "lista = [ 'beta0_ls', 'beta0_ml', 'beta1_ls','beta1_ml', 'tcut_ls', 'tcut_ml', 'delta_ls', 'delta_ml', 'e0_ls',\n",
    "       'e0_ml', 'ia0_ls', 'ia0_ml', 'is0_ls', 'is0_ml']"
   ]
  },
  {
   "cell_type": "code",
   "execution_count": 13,
   "metadata": {
    "scrolled": false
   },
   "outputs": [
    {
     "name": "stdout",
     "output_type": "stream",
     "text": [
      "beta0_ls (1.9996389365139469, 1.9103379183224014, 2.0889399547054923)\n",
      "beta0_ml (1.6679693834668634, 1.6276538948050636, 1.7082848721286632)\n",
      "beta1_ls (1.0358874037929677, 0.9848454925618654, 1.0869293150240702)\n",
      "beta1_ml (0.8440423377979086, 0.8203602607043528, 0.8677244148914645)\n",
      "tcut_ls (94.90161285942946, 94.74621738941407, 95.05700832944486)\n",
      "tcut_ml (97.05327512145575, 96.54751104161514, 97.55903920129637)\n",
      "delta_ls (0.28229439977241605, 0.23566979240875308, 0.328919007136079)\n",
      "delta_ml (0.389065808891516, 0.3688341280873538, 0.4092974896956782)\n",
      "e0_ls (2.376587422016826e-06, 2.3599183740948173e-06, 2.3932564699388348e-06)\n",
      "e0_ml (1.1990215284690064e-06, 1.0754532287891466e-06, 1.3225898281488663e-06)\n",
      "ia0_ls (2.376587422016826e-06, 2.376587400503949e-06, 2.376587443529703e-06)\n",
      "ia0_ml (1.2609030062747696e-06, 1.141286721517328e-06, 1.3805192910322113e-06)\n",
      "is0_ls (8.103499569424453e-07, 7.356443539347723e-07, 8.850555599501184e-07)\n",
      "is0_ml (1.4924451641082333e-06, 1.3784685651908844e-06, 1.6064217630255821e-06)\n"
     ]
    }
   ],
   "source": [
    "for value in lista:\n",
    "    print(value, mean_confidence_interval(df[value], confidence=0.95))"
   ]
  },
  {
   "cell_type": "code",
   "execution_count": 33,
   "metadata": {},
   "outputs": [],
   "source": [
    "b = 1.62\n",
    "delta = 0.42\n",
    "p = 0.2\n",
    "gammaA = 1/3.5\n",
    "gammaS = 1/4"
   ]
  },
  {
   "cell_type": "code",
   "execution_count": 34,
   "metadata": {},
   "outputs": [
    {
     "name": "stdout",
     "output_type": "stream",
     "text": [
      "Número Reprodutivo 3.2011200000000004.\n",
      "Número Reprodutivo dos sintomaticos 6.48.\n",
      "Número Reprodutivo dos assintomáticos 2.3814.\n"
     ]
    }
   ],
   "source": [
    "R0a = b*delta/gammaA\n",
    "\n",
    "R0s = b/gammaS\n",
    "\n",
    "R0_geral = p*R0s + (1-p)*R0a\n",
    "\n",
    "print(\"Número Reprodutivo {}.\".format(R0_geral))\n",
    "\n",
    "print(\"Número Reprodutivo dos sintomaticos {}.\".format(R0s))\n",
    "\n",
    "print(\"Número Reprodutivo dos assintomáticos {}.\".format(R0a))"
   ]
  },
  {
   "cell_type": "code",
   "execution_count": null,
   "metadata": {},
   "outputs": [],
   "source": []
  }
 ],
 "metadata": {
  "kernelspec": {
   "display_name": "Python 3",
   "language": "python",
   "name": "python3"
  },
  "language_info": {
   "codemirror_mode": {
    "name": "ipython",
    "version": 3
   },
   "file_extension": ".py",
   "mimetype": "text/x-python",
   "name": "python",
   "nbconvert_exporter": "python",
   "pygments_lexer": "ipython3",
   "version": "3.8.5"
  }
 },
 "nbformat": 4,
 "nbformat_minor": 2
}
