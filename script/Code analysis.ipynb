{
 "cells": [
  {
   "cell_type": "code",
   "execution_count": 1,
   "metadata": {},
   "outputs": [],
   "source": [
    "import numpy as np\n",
    "import matplotlib.pyplot as plt\n",
    "from scipy.integrate import odeint\n",
    "from scipy.optimize import least_squares\n",
    "import math\n",
    "import pandas as pd\n",
    "import csv\n",
    "import datetime\n",
    "from scipy import stats\n",
    "from scipy import optimize\n",
    "from datetime import date, timedelta\n",
    "import random\n",
    "import requests\n",
    "from scipy.stats import truncnorm\n",
    "import datetime\n",
    "\n",
    "import statsmodels as sm\n",
    "#import statsmodels.api as sm\n",
    "\n",
    "from PIL import Image\n",
    "from scipy.stats import norm"
   ]
  },
  {
   "cell_type": "markdown",
   "metadata": {},
   "source": [
    "# Read data"
   ]
  },
  {
   "cell_type": "markdown",
   "metadata": {},
   "source": [
    "## Cases"
   ]
  },
  {
   "cell_type": "code",
   "execution_count": null,
   "metadata": {},
   "outputs": [],
   "source": [
    "df = pd.read_csv('/Users/julianeoliveira/Desktop/dropbox_15_11_2019/Artigos_preprints/COVID19/Paper_submissions/Paper2/Assessing-the-nationwide-impact-of-COVID-19-mitigation-policies-on-the-transmission-rate-of-SARS-CoV/data/covid.csv')"
   ]
  },
  {
   "cell_type": "markdown",
   "metadata": {},
   "source": [
    "## Population"
   ]
  },
  {
   "cell_type": "code",
   "execution_count": null,
   "metadata": {},
   "outputs": [],
   "source": [
    "pop = pd.read_csv('/Users/julianeoliveira/Desktop/dropbox_15_11_2019/Artigos_preprints/COVID19/Paper_submissions/Paper2/Assessing-the-nationwide-impact-of-COVID-19-mitigation-policies-on-the-transmission-rate-of-SARS-CoV/results/seiir_bootstrap/populacao_municipio.csv')"
   ]
  },
  {
   "cell_type": "markdown",
   "metadata": {},
   "source": [
    "## Mobility data"
   ]
  },
  {
   "cell_type": "code",
   "execution_count": null,
   "metadata": {},
   "outputs": [],
   "source": [
    "mob = pd.read_csv('/Users/julianeoliveira/Desktop/dropbox_15_11_2019/Artigos_preprints/COVID19/Paper_submissions/Paper2/Assessing-the-nationwide-impact-of-COVID-19-mitigation-policies-on-the-transmission-rate-of-SARS-CoV/data/distancing_series.csv')"
   ]
  },
  {
   "cell_type": "markdown",
   "metadata": {},
   "source": [
    "## Stringency"
   ]
  },
  {
   "cell_type": "code",
   "execution_count": null,
   "metadata": {},
   "outputs": [],
   "source": [
    "strg = pd.read_csv('/Users/julianeoliveira/Desktop/dropbox_15_11_2019/Artigos_preprints/COVID19/Paper_submissions/Paper2/Assessing-the-nationwide-impact-of-COVID-19-mitigation-policies-on-the-transmission-rate-of-SARS-CoV/data/stringency_series.csv')"
   ]
  },
  {
   "cell_type": "markdown",
   "metadata": {},
   "source": [
    "# Create dataframe to analyse the following time series:\n",
    "\n",
    "    * Daily number of cases\n",
    "    * Acumulated number of cases\n",
    "    * SMRI\n",
    "    * Stringency\n",
    "    * Rt"
   ]
  },
  {
   "cell_type": "code",
   "execution_count": null,
   "metadata": {},
   "outputs": [],
   "source": [
    "df = df[df.date <= '2020-05-22']"
   ]
  },
  {
   "cell_type": "code",
   "execution_count": null,
   "metadata": {
    "scrolled": false
   },
   "outputs": [],
   "source": [
    "df.head()"
   ]
  },
  {
   "cell_type": "code",
   "execution_count": null,
   "metadata": {},
   "outputs": [],
   "source": []
  },
  {
   "cell_type": "code",
   "execution_count": null,
   "metadata": {
    "scrolled": true
   },
   "outputs": [],
   "source": [
    "mob"
   ]
  },
  {
   "cell_type": "code",
   "execution_count": null,
   "metadata": {},
   "outputs": [],
   "source": []
  },
  {
   "cell_type": "code",
   "execution_count": null,
   "metadata": {},
   "outputs": [],
   "source": [
    "mob = mob[(mob.date >= '27-Feb-2020 00:00:00') & (mob.date <= '2020-05-22')]"
   ]
  },
  {
   "cell_type": "code",
   "execution_count": null,
   "metadata": {},
   "outputs": [],
   "source": [
    "mob.head()"
   ]
  },
  {
   "cell_type": "code",
   "execution_count": null,
   "metadata": {},
   "outputs": [],
   "source": [
    "series_state = df.groupby(['state', 'date'])['new_confirmed'].sum().reset_index()"
   ]
  },
  {
   "cell_type": "code",
   "execution_count": null,
   "metadata": {},
   "outputs": [],
   "source": [
    "series_state.head()"
   ]
  },
  {
   "cell_type": "code",
   "execution_count": null,
   "metadata": {},
   "outputs": [],
   "source": []
  },
  {
   "cell_type": "code",
   "execution_count": null,
   "metadata": {
    "scrolled": false
   },
   "outputs": [],
   "source": [
    "for value in mob.sig_uf:\n",
    "    s = value\n",
    "    \n",
    "    print(s)\n",
    "    \n",
    "    cases = series_state[series_state.state == s]\n",
    "    \n",
    "    cases['cumulative'] = cases.new_confirmed.cumsum()\n",
    "    \n",
    "    mobs = mob[mob.sig_uf == s][(mob[mob.sig_uf == s].dt >= cases.iloc[0,1])]\n",
    "    \n",
    "    r, p = stats.pearsonr(cases.dropna()['new_confirmed']/sum(cases.dropna()['new_confirmed']), mobs.dropna()['isolated'])\n",
    "    print(f\"Scipy computed Pearson r: {r} and p-value: {p}\")\n",
    "    \n",
    "    cases['isolated'] = np.array(mobs.isolated)\n",
    "    \n",
    "    casesLog = np.log(cases.filter(['new_confirmed','cumulative','isolated']))\n",
    "    casesLog = casesLog.replace([np.inf, -np.inf], np.nan).fillna(0)\n",
    "    \n",
    "    cases['cumLog'] = casesLog.cumulative\n",
    "    \n",
    "    import functools\n",
    "    cases.filter(['isolated','cumLog']).apply(functools.partial(test_stationarity))\n",
    "    \n",
    "    plt.scatter(cases.cumLog,cases.isolated, marker='o')\n",
    "    \n",
    "    model = VAR(cases.filter(['isolated','cumLog']))\n",
    "    \n",
    "    model1 = model.select_order()\n",
    "    print(model1.summary())\n",
    "    \n",
    "    xcov = [crosscorr(cases.isolated, cases.cumLog, lag=i) for i in range(20)]\n",
    "    print(xcov)\n",
    "    \n",
    "    x= cases.isolated \n",
    "    y= cases.cumLog\n",
    "\n",
    "    n =len(x)\n",
    "    l1 = (-1/n) + (2/math.sqrt(n))\n",
    "\n",
    "    fig, ax1 = plt.subplots(1, 1, sharex=True)\n",
    "    ax1.xcorr(x, y, usevlines=True, maxlags=None, normed=True, lw=2)\n",
    "\n",
    "    ax1.axhline(l1, color='blue', linestyle='dashed', lw=1)\n",
    "\n",
    "    ax1.grid(True)\n",
    "\n",
    "    #ax2.acorr(x, usevlines=True, normed=True, maxlags=None, lw=2)\n",
    "    #ax2.grid(True)\n",
    "\n",
    "\n",
    "    plt.show()"
   ]
  },
  {
   "cell_type": "code",
   "execution_count": null,
   "metadata": {},
   "outputs": [],
   "source": [
    "import datetime\n",
    "days = 90\n",
    "datetime.datetime(2020, 1, 1) + datetime.timedelta(days - 1)"
   ]
  },
  {
   "cell_type": "code",
   "execution_count": null,
   "metadata": {},
   "outputs": [],
   "source": [
    "days = 25\n",
    "datetime.datetime(2020, 3, 6) + datetime.timedelta(days - 1)"
   ]
  },
  {
   "cell_type": "code",
   "execution_count": null,
   "metadata": {
    "scrolled": true
   },
   "outputs": [],
   "source": [
    "cases.head()"
   ]
  },
  {
   "cell_type": "code",
   "execution_count": null,
   "metadata": {
    "scrolled": true
   },
   "outputs": [],
   "source": [
    "cases['cumulative'] = cases.new_confirmed.cumsum()"
   ]
  },
  {
   "cell_type": "code",
   "execution_count": null,
   "metadata": {
    "scrolled": true
   },
   "outputs": [],
   "source": [
    "mobs = mob[mob.sig_uf == s][(mob[mob.sig_uf == s].dt >= cases.iloc[0,1])]"
   ]
  },
  {
   "cell_type": "code",
   "execution_count": null,
   "metadata": {},
   "outputs": [],
   "source": [
    "mobs.head(1)"
   ]
  },
  {
   "cell_type": "code",
   "execution_count": null,
   "metadata": {
    "scrolled": false
   },
   "outputs": [],
   "source": [
    "r, p = stats.pearsonr(cases.dropna()['new_confirmed']/sum(cases.dropna()['new_confirmed']), mobs.dropna()['isolated'])\n",
    "print(f\"Scipy computed Pearson r: {r} and p-value: {p}\")"
   ]
  },
  {
   "cell_type": "code",
   "execution_count": null,
   "metadata": {},
   "outputs": [],
   "source": [
    "cases['isolated'] = np.array(mobs.isolated)"
   ]
  },
  {
   "cell_type": "code",
   "execution_count": null,
   "metadata": {},
   "outputs": [],
   "source": [
    "cases"
   ]
  },
  {
   "cell_type": "code",
   "execution_count": null,
   "metadata": {
    "scrolled": true
   },
   "outputs": [],
   "source": [
    "casesLog = np.log(cases.filter(['new_confirmed','cumulative','isolated']))\n",
    "casesLog = casesLog.replace([np.inf, -np.inf], np.nan).fillna(0)"
   ]
  },
  {
   "cell_type": "code",
   "execution_count": null,
   "metadata": {
    "scrolled": true
   },
   "outputs": [],
   "source": [
    "casesLog.head(1)"
   ]
  },
  {
   "cell_type": "code",
   "execution_count": null,
   "metadata": {
    "scrolled": false
   },
   "outputs": [],
   "source": [
    "cases['cumLog'] = casesLog.cumulative"
   ]
  },
  {
   "cell_type": "code",
   "execution_count": null,
   "metadata": {},
   "outputs": [],
   "source": [
    "from statsmodels.tsa.stattools import adfuller\n",
    "def test_stationarity(timeseries):\n",
    "    \n",
    "    #Perform Dickey-Fuller test:\n",
    "    print ('Results of Dickey-Fuller Test:')\n",
    "    dftest = adfuller(timeseries, autolag='AIC')\n",
    "    dfoutput = pd.Series(dftest[0:4], index=['Test Statistic','p-value','#Lags Used','Number of Observations Used'])\n",
    "    for key,value in dftest[4].items():\n",
    "        dfoutput['Critical Value (%s)'%key] = value\n",
    "    print (dfoutput)"
   ]
  },
  {
   "cell_type": "code",
   "execution_count": null,
   "metadata": {
    "scrolled": false
   },
   "outputs": [],
   "source": [
    "import functools\n",
    "cases.filter(['isolated','cumLog']).apply(functools.partial(test_stationarity))"
   ]
  },
  {
   "cell_type": "code",
   "execution_count": null,
   "metadata": {
    "scrolled": true
   },
   "outputs": [],
   "source": [
    "plt.scatter(cases.cumLog,cases.isolated, marker='o')"
   ]
  },
  {
   "cell_type": "code",
   "execution_count": null,
   "metadata": {},
   "outputs": [],
   "source": [
    "from statsmodels.tsa.vector_ar.var_model import VAR\n",
    "\n",
    "model = VAR(cases.filter(['isolated','cumLog']))"
   ]
  },
  {
   "cell_type": "code",
   "execution_count": null,
   "metadata": {},
   "outputs": [],
   "source": [
    "# Best model order (automatic selection)\n",
    "model1 = model.select_order()\n",
    "model1.summary()"
   ]
  },
  {
   "cell_type": "code",
   "execution_count": null,
   "metadata": {},
   "outputs": [],
   "source": [
    "def crosscorr(datax, datay, lag=0):\n",
    "    \"\"\" Lag-N cross correlation. \n",
    "    Parameters\n",
    "    ----------\n",
    "    lag : int, default 0\n",
    "    datax, datay : pandas.Series objects of equal length\n",
    "\n",
    "    Returns\n",
    "    ----------\n",
    "    crosscorr : float\n",
    "    \"\"\"\n",
    "    return datax.corr(datay.shift(lag))"
   ]
  },
  {
   "cell_type": "code",
   "execution_count": null,
   "metadata": {},
   "outputs": [],
   "source": [
    "len(cases.isolated)"
   ]
  },
  {
   "cell_type": "code",
   "execution_count": null,
   "metadata": {},
   "outputs": [],
   "source": [
    "xcov = [crosscorr(cases.isolated, cases.cumLog, lag=i) for i in range(12)]\n",
    "xcov"
   ]
  },
  {
   "cell_type": "code",
   "execution_count": null,
   "metadata": {},
   "outputs": [],
   "source": [
    "# Fixing random state for reproducibility\n",
    "\n",
    "x= cases.isolated \n",
    "y= cases.cumLog\n",
    "\n",
    "n =len(x)\n",
    "l1 = (-1/n) + (2/math.sqrt(n))\n",
    "\n",
    "fig, [ax1, ax2] = plt.subplots(2, 1, sharex=True)\n",
    "ax1.xcorr(x, y, usevlines=True, maxlags=None, normed=True, lw=2)\n",
    "\n",
    "ax1.axhline(l1, color='blue', linestyle='dashed', lw=1)\n",
    "\n",
    "ax1.grid(True)\n",
    "\n",
    "ax2.acorr(x, usevlines=True, normed=True, maxlags=None, lw=2)\n",
    "ax2.grid(True)\n",
    "\n",
    "\n",
    "plt.show()"
   ]
  },
  {
   "cell_type": "code",
   "execution_count": null,
   "metadata": {},
   "outputs": [],
   "source": [
    "r, p = stats.pearsonr(casesLog.dropna()['cumulative'], cases.dropna()['isolated'])\n",
    "print(f\"Scipy computed Pearson r: {r} and p-value: {p}\")"
   ]
  },
  {
   "cell_type": "code",
   "execution_count": null,
   "metadata": {},
   "outputs": [],
   "source": [
    "AC Scipy computed Pearson r: -0.04628281185786891 and p-value: 0.7099590018140384\n",
    "        \n",
    "CE Scipy computed Pearson r: 0.09147087633004868 and p-value: 0.45817151024268354\n",
    "        \n"
   ]
  },
  {
   "cell_type": "markdown",
   "metadata": {},
   "source": [
    "# Analysis of the fit results"
   ]
  },
  {
   "cell_type": "markdown",
   "metadata": {},
   "source": [
    "## Data results"
   ]
  },
  {
   "cell_type": "code",
   "execution_count": 2,
   "metadata": {
    "scrolled": true
   },
   "outputs": [
    {
     "data": {
      "text/plain": [
       "['/Users/julianeoliveira/Desktop/dropbox_15_11_2019/Artigos_preprints/COVID19/Paper_submissions/Paper2/Assessing-the-nationwide-impact-of-COVID-19-mitigation-policies-on-the-transmission-rate-of-SARS-CoV/results/seiir_bootstrap/seiir_fits_boots_TO.csv',\n",
       " '/Users/julianeoliveira/Desktop/dropbox_15_11_2019/Artigos_preprints/COVID19/Paper_submissions/Paper2/Assessing-the-nationwide-impact-of-COVID-19-mitigation-policies-on-the-transmission-rate-of-SARS-CoV/results/seiir_bootstrap/seiir_fits_boots_AL.csv',\n",
       " '/Users/julianeoliveira/Desktop/dropbox_15_11_2019/Artigos_preprints/COVID19/Paper_submissions/Paper2/Assessing-the-nationwide-impact-of-COVID-19-mitigation-policies-on-the-transmission-rate-of-SARS-CoV/results/seiir_bootstrap/seiir_fits_boots_AM.csv',\n",
       " '/Users/julianeoliveira/Desktop/dropbox_15_11_2019/Artigos_preprints/COVID19/Paper_submissions/Paper2/Assessing-the-nationwide-impact-of-COVID-19-mitigation-policies-on-the-transmission-rate-of-SARS-CoV/results/seiir_bootstrap/seiir_fits_boots_CE.csv',\n",
       " '/Users/julianeoliveira/Desktop/dropbox_15_11_2019/Artigos_preprints/COVID19/Paper_submissions/Paper2/Assessing-the-nationwide-impact-of-COVID-19-mitigation-policies-on-the-transmission-rate-of-SARS-CoV/results/seiir_bootstrap/seiir_fits_boots_BA.csv',\n",
       " '/Users/julianeoliveira/Desktop/dropbox_15_11_2019/Artigos_preprints/COVID19/Paper_submissions/Paper2/Assessing-the-nationwide-impact-of-COVID-19-mitigation-policies-on-the-transmission-rate-of-SARS-CoV/results/seiir_bootstrap/seiir_fits_boots_DF.csv',\n",
       " '/Users/julianeoliveira/Desktop/dropbox_15_11_2019/Artigos_preprints/COVID19/Paper_submissions/Paper2/Assessing-the-nationwide-impact-of-COVID-19-mitigation-policies-on-the-transmission-rate-of-SARS-CoV/results/seiir_bootstrap/seiir_fits_boots_PB.csv',\n",
       " '/Users/julianeoliveira/Desktop/dropbox_15_11_2019/Artigos_preprints/COVID19/Paper_submissions/Paper2/Assessing-the-nationwide-impact-of-COVID-19-mitigation-policies-on-the-transmission-rate-of-SARS-CoV/results/seiir_bootstrap/seiir_fits_boots_RJ.csv',\n",
       " '/Users/julianeoliveira/Desktop/dropbox_15_11_2019/Artigos_preprints/COVID19/Paper_submissions/Paper2/Assessing-the-nationwide-impact-of-COVID-19-mitigation-policies-on-the-transmission-rate-of-SARS-CoV/results/seiir_bootstrap/seiir_fits_boots_PA.csv',\n",
       " '/Users/julianeoliveira/Desktop/dropbox_15_11_2019/Artigos_preprints/COVID19/Paper_submissions/Paper2/Assessing-the-nationwide-impact-of-COVID-19-mitigation-policies-on-the-transmission-rate-of-SARS-CoV/results/seiir_bootstrap/seiir_fits_boots_PE.csv',\n",
       " '/Users/julianeoliveira/Desktop/dropbox_15_11_2019/Artigos_preprints/COVID19/Paper_submissions/Paper2/Assessing-the-nationwide-impact-of-COVID-19-mitigation-policies-on-the-transmission-rate-of-SARS-CoV/results/seiir_bootstrap/seiir_fits_boots_PR.csv',\n",
       " '/Users/julianeoliveira/Desktop/dropbox_15_11_2019/Artigos_preprints/COVID19/Paper_submissions/Paper2/Assessing-the-nationwide-impact-of-COVID-19-mitigation-policies-on-the-transmission-rate-of-SARS-CoV/results/seiir_bootstrap/seiir_fits_boots_ES.csv',\n",
       " '/Users/julianeoliveira/Desktop/dropbox_15_11_2019/Artigos_preprints/COVID19/Paper_submissions/Paper2/Assessing-the-nationwide-impact-of-COVID-19-mitigation-policies-on-the-transmission-rate-of-SARS-CoV/results/seiir_bootstrap/seiir_fits_boots_RN.csv',\n",
       " '/Users/julianeoliveira/Desktop/dropbox_15_11_2019/Artigos_preprints/COVID19/Paper_submissions/Paper2/Assessing-the-nationwide-impact-of-COVID-19-mitigation-policies-on-the-transmission-rate-of-SARS-CoV/results/seiir_bootstrap/seiir_fits_boots_GO.csv',\n",
       " '/Users/julianeoliveira/Desktop/dropbox_15_11_2019/Artigos_preprints/COVID19/Paper_submissions/Paper2/Assessing-the-nationwide-impact-of-COVID-19-mitigation-policies-on-the-transmission-rate-of-SARS-CoV/results/seiir_bootstrap/seiir_fits_boots_RO.csv',\n",
       " '/Users/julianeoliveira/Desktop/dropbox_15_11_2019/Artigos_preprints/COVID19/Paper_submissions/Paper2/Assessing-the-nationwide-impact-of-COVID-19-mitigation-policies-on-the-transmission-rate-of-SARS-CoV/results/seiir_bootstrap/seiir_fits_boots_SP.csv',\n",
       " '/Users/julianeoliveira/Desktop/dropbox_15_11_2019/Artigos_preprints/COVID19/Paper_submissions/Paper2/Assessing-the-nationwide-impact-of-COVID-19-mitigation-policies-on-the-transmission-rate-of-SARS-CoV/results/seiir_bootstrap/seiir_fits_boots_PI.csv',\n",
       " '/Users/julianeoliveira/Desktop/dropbox_15_11_2019/Artigos_preprints/COVID19/Paper_submissions/Paper2/Assessing-the-nationwide-impact-of-COVID-19-mitigation-policies-on-the-transmission-rate-of-SARS-CoV/results/seiir_bootstrap/seiir_fits_boots_SE.csv',\n",
       " '/Users/julianeoliveira/Desktop/dropbox_15_11_2019/Artigos_preprints/COVID19/Paper_submissions/Paper2/Assessing-the-nationwide-impact-of-COVID-19-mitigation-policies-on-the-transmission-rate-of-SARS-CoV/results/seiir_bootstrap/seiir_fits_boots_RS.csv',\n",
       " '/Users/julianeoliveira/Desktop/dropbox_15_11_2019/Artigos_preprints/COVID19/Paper_submissions/Paper2/Assessing-the-nationwide-impact-of-COVID-19-mitigation-policies-on-the-transmission-rate-of-SARS-CoV/results/seiir_bootstrap/seiir_fits_boots_RR.csv',\n",
       " '/Users/julianeoliveira/Desktop/dropbox_15_11_2019/Artigos_preprints/COVID19/Paper_submissions/Paper2/Assessing-the-nationwide-impact-of-COVID-19-mitigation-policies-on-the-transmission-rate-of-SARS-CoV/results/seiir_bootstrap/seiir_fits_boots_SC.csv',\n",
       " '/Users/julianeoliveira/Desktop/dropbox_15_11_2019/Artigos_preprints/COVID19/Paper_submissions/Paper2/Assessing-the-nationwide-impact-of-COVID-19-mitigation-policies-on-the-transmission-rate-of-SARS-CoV/results/seiir_bootstrap/seiir_fits_boots_MT.csv',\n",
       " '/Users/julianeoliveira/Desktop/dropbox_15_11_2019/Artigos_preprints/COVID19/Paper_submissions/Paper2/Assessing-the-nationwide-impact-of-COVID-19-mitigation-policies-on-the-transmission-rate-of-SARS-CoV/results/seiir_bootstrap/seiir_fits_boots_AC.csv',\n",
       " '/Users/julianeoliveira/Desktop/dropbox_15_11_2019/Artigos_preprints/COVID19/Paper_submissions/Paper2/Assessing-the-nationwide-impact-of-COVID-19-mitigation-policies-on-the-transmission-rate-of-SARS-CoV/results/seiir_bootstrap/seiir_fits_boots_MA.csv',\n",
       " '/Users/julianeoliveira/Desktop/dropbox_15_11_2019/Artigos_preprints/COVID19/Paper_submissions/Paper2/Assessing-the-nationwide-impact-of-COVID-19-mitigation-policies-on-the-transmission-rate-of-SARS-CoV/results/seiir_bootstrap/seiir_fits_boots_AP.csv',\n",
       " '/Users/julianeoliveira/Desktop/dropbox_15_11_2019/Artigos_preprints/COVID19/Paper_submissions/Paper2/Assessing-the-nationwide-impact-of-COVID-19-mitigation-policies-on-the-transmission-rate-of-SARS-CoV/results/seiir_bootstrap/seiir_fits_boots_MS.csv',\n",
       " '/Users/julianeoliveira/Desktop/dropbox_15_11_2019/Artigos_preprints/COVID19/Paper_submissions/Paper2/Assessing-the-nationwide-impact-of-COVID-19-mitigation-policies-on-the-transmission-rate-of-SARS-CoV/results/seiir_bootstrap/seiir_fits_boots_MG.csv']"
      ]
     },
     "execution_count": 2,
     "metadata": {},
     "output_type": "execute_result"
    }
   ],
   "source": [
    "import sys\n",
    "import glob\n",
    "\n",
    "path = r'/Users/julianeoliveira/Desktop/dropbox_15_11_2019/Artigos_preprints/COVID19/Paper_submissions/Paper2/Assessing-the-nationwide-impact-of-COVID-19-mitigation-policies-on-the-transmission-rate-of-SARS-CoV/results/seiir_bootstrap'\n",
    "filenames = glob.glob(path + \"/*.csv\")\n",
    "filenames"
   ]
  },
  {
   "cell_type": "code",
   "execution_count": 3,
   "metadata": {},
   "outputs": [
    {
     "name": "stdout",
     "output_type": "stream",
     "text": [
      "/Users/julianeoliveira/Desktop/dropbox_15_11_2019/Artigos_preprints/COVID19/Paper_submissions/Paper2/Assessing-the-nationwide-impact-of-COVID-19-mitigation-policies-on-the-transmission-rate-of-SARS-CoV/results/seiir_bootstrap/seiir_fits_boots_TO.csv\n",
      "/Users/julianeoliveira/Desktop/dropbox_15_11_2019/Artigos_preprints/COVID19/Paper_submissions/Paper2/Assessing-the-nationwide-impact-of-COVID-19-mitigation-policies-on-the-transmission-rate-of-SARS-CoV/results/seiir_bootstrap/seiir_fits_boots_AL.csv\n",
      "/Users/julianeoliveira/Desktop/dropbox_15_11_2019/Artigos_preprints/COVID19/Paper_submissions/Paper2/Assessing-the-nationwide-impact-of-COVID-19-mitigation-policies-on-the-transmission-rate-of-SARS-CoV/results/seiir_bootstrap/seiir_fits_boots_AM.csv\n",
      "/Users/julianeoliveira/Desktop/dropbox_15_11_2019/Artigos_preprints/COVID19/Paper_submissions/Paper2/Assessing-the-nationwide-impact-of-COVID-19-mitigation-policies-on-the-transmission-rate-of-SARS-CoV/results/seiir_bootstrap/seiir_fits_boots_CE.csv\n",
      "/Users/julianeoliveira/Desktop/dropbox_15_11_2019/Artigos_preprints/COVID19/Paper_submissions/Paper2/Assessing-the-nationwide-impact-of-COVID-19-mitigation-policies-on-the-transmission-rate-of-SARS-CoV/results/seiir_bootstrap/seiir_fits_boots_BA.csv\n",
      "/Users/julianeoliveira/Desktop/dropbox_15_11_2019/Artigos_preprints/COVID19/Paper_submissions/Paper2/Assessing-the-nationwide-impact-of-COVID-19-mitigation-policies-on-the-transmission-rate-of-SARS-CoV/results/seiir_bootstrap/seiir_fits_boots_DF.csv\n",
      "/Users/julianeoliveira/Desktop/dropbox_15_11_2019/Artigos_preprints/COVID19/Paper_submissions/Paper2/Assessing-the-nationwide-impact-of-COVID-19-mitigation-policies-on-the-transmission-rate-of-SARS-CoV/results/seiir_bootstrap/seiir_fits_boots_PB.csv\n",
      "/Users/julianeoliveira/Desktop/dropbox_15_11_2019/Artigos_preprints/COVID19/Paper_submissions/Paper2/Assessing-the-nationwide-impact-of-COVID-19-mitigation-policies-on-the-transmission-rate-of-SARS-CoV/results/seiir_bootstrap/seiir_fits_boots_RJ.csv\n",
      "/Users/julianeoliveira/Desktop/dropbox_15_11_2019/Artigos_preprints/COVID19/Paper_submissions/Paper2/Assessing-the-nationwide-impact-of-COVID-19-mitigation-policies-on-the-transmission-rate-of-SARS-CoV/results/seiir_bootstrap/seiir_fits_boots_PA.csv\n",
      "/Users/julianeoliveira/Desktop/dropbox_15_11_2019/Artigos_preprints/COVID19/Paper_submissions/Paper2/Assessing-the-nationwide-impact-of-COVID-19-mitigation-policies-on-the-transmission-rate-of-SARS-CoV/results/seiir_bootstrap/seiir_fits_boots_PE.csv\n",
      "/Users/julianeoliveira/Desktop/dropbox_15_11_2019/Artigos_preprints/COVID19/Paper_submissions/Paper2/Assessing-the-nationwide-impact-of-COVID-19-mitigation-policies-on-the-transmission-rate-of-SARS-CoV/results/seiir_bootstrap/seiir_fits_boots_PR.csv\n",
      "/Users/julianeoliveira/Desktop/dropbox_15_11_2019/Artigos_preprints/COVID19/Paper_submissions/Paper2/Assessing-the-nationwide-impact-of-COVID-19-mitigation-policies-on-the-transmission-rate-of-SARS-CoV/results/seiir_bootstrap/seiir_fits_boots_ES.csv\n",
      "/Users/julianeoliveira/Desktop/dropbox_15_11_2019/Artigos_preprints/COVID19/Paper_submissions/Paper2/Assessing-the-nationwide-impact-of-COVID-19-mitigation-policies-on-the-transmission-rate-of-SARS-CoV/results/seiir_bootstrap/seiir_fits_boots_RN.csv\n",
      "/Users/julianeoliveira/Desktop/dropbox_15_11_2019/Artigos_preprints/COVID19/Paper_submissions/Paper2/Assessing-the-nationwide-impact-of-COVID-19-mitigation-policies-on-the-transmission-rate-of-SARS-CoV/results/seiir_bootstrap/seiir_fits_boots_GO.csv\n",
      "/Users/julianeoliveira/Desktop/dropbox_15_11_2019/Artigos_preprints/COVID19/Paper_submissions/Paper2/Assessing-the-nationwide-impact-of-COVID-19-mitigation-policies-on-the-transmission-rate-of-SARS-CoV/results/seiir_bootstrap/seiir_fits_boots_RO.csv\n",
      "/Users/julianeoliveira/Desktop/dropbox_15_11_2019/Artigos_preprints/COVID19/Paper_submissions/Paper2/Assessing-the-nationwide-impact-of-COVID-19-mitigation-policies-on-the-transmission-rate-of-SARS-CoV/results/seiir_bootstrap/seiir_fits_boots_SP.csv\n",
      "/Users/julianeoliveira/Desktop/dropbox_15_11_2019/Artigos_preprints/COVID19/Paper_submissions/Paper2/Assessing-the-nationwide-impact-of-COVID-19-mitigation-policies-on-the-transmission-rate-of-SARS-CoV/results/seiir_bootstrap/seiir_fits_boots_PI.csv\n",
      "/Users/julianeoliveira/Desktop/dropbox_15_11_2019/Artigos_preprints/COVID19/Paper_submissions/Paper2/Assessing-the-nationwide-impact-of-COVID-19-mitigation-policies-on-the-transmission-rate-of-SARS-CoV/results/seiir_bootstrap/seiir_fits_boots_SE.csv\n",
      "/Users/julianeoliveira/Desktop/dropbox_15_11_2019/Artigos_preprints/COVID19/Paper_submissions/Paper2/Assessing-the-nationwide-impact-of-COVID-19-mitigation-policies-on-the-transmission-rate-of-SARS-CoV/results/seiir_bootstrap/seiir_fits_boots_RS.csv\n",
      "/Users/julianeoliveira/Desktop/dropbox_15_11_2019/Artigos_preprints/COVID19/Paper_submissions/Paper2/Assessing-the-nationwide-impact-of-COVID-19-mitigation-policies-on-the-transmission-rate-of-SARS-CoV/results/seiir_bootstrap/seiir_fits_boots_RR.csv\n",
      "/Users/julianeoliveira/Desktop/dropbox_15_11_2019/Artigos_preprints/COVID19/Paper_submissions/Paper2/Assessing-the-nationwide-impact-of-COVID-19-mitigation-policies-on-the-transmission-rate-of-SARS-CoV/results/seiir_bootstrap/seiir_fits_boots_SC.csv\n",
      "/Users/julianeoliveira/Desktop/dropbox_15_11_2019/Artigos_preprints/COVID19/Paper_submissions/Paper2/Assessing-the-nationwide-impact-of-COVID-19-mitigation-policies-on-the-transmission-rate-of-SARS-CoV/results/seiir_bootstrap/seiir_fits_boots_MT.csv\n",
      "/Users/julianeoliveira/Desktop/dropbox_15_11_2019/Artigos_preprints/COVID19/Paper_submissions/Paper2/Assessing-the-nationwide-impact-of-COVID-19-mitigation-policies-on-the-transmission-rate-of-SARS-CoV/results/seiir_bootstrap/seiir_fits_boots_AC.csv\n",
      "/Users/julianeoliveira/Desktop/dropbox_15_11_2019/Artigos_preprints/COVID19/Paper_submissions/Paper2/Assessing-the-nationwide-impact-of-COVID-19-mitigation-policies-on-the-transmission-rate-of-SARS-CoV/results/seiir_bootstrap/seiir_fits_boots_MA.csv\n",
      "/Users/julianeoliveira/Desktop/dropbox_15_11_2019/Artigos_preprints/COVID19/Paper_submissions/Paper2/Assessing-the-nationwide-impact-of-COVID-19-mitigation-policies-on-the-transmission-rate-of-SARS-CoV/results/seiir_bootstrap/seiir_fits_boots_AP.csv\n",
      "/Users/julianeoliveira/Desktop/dropbox_15_11_2019/Artigos_preprints/COVID19/Paper_submissions/Paper2/Assessing-the-nationwide-impact-of-COVID-19-mitigation-policies-on-the-transmission-rate-of-SARS-CoV/results/seiir_bootstrap/seiir_fits_boots_MS.csv\n",
      "/Users/julianeoliveira/Desktop/dropbox_15_11_2019/Artigos_preprints/COVID19/Paper_submissions/Paper2/Assessing-the-nationwide-impact-of-COVID-19-mitigation-policies-on-the-transmission-rate-of-SARS-CoV/results/seiir_bootstrap/seiir_fits_boots_MG.csv\n"
     ]
    }
   ],
   "source": [
    "lst_df = []\n",
    "for f in filenames:\n",
    "    print(f)\n",
    "    df = pd.read_csv(f, low_memory = False, encoding=\"iso-8859-1\")     \n",
    "    #df.columns= df.columns.str.lower()\n",
    "    lst_df.append(df)"
   ]
  },
  {
   "cell_type": "code",
   "execution_count": 4,
   "metadata": {
    "scrolled": true
   },
   "outputs": [
    {
     "data": {
      "text/html": [
       "<div>\n",
       "<style scoped>\n",
       "    .dataframe tbody tr th:only-of-type {\n",
       "        vertical-align: middle;\n",
       "    }\n",
       "\n",
       "    .dataframe tbody tr th {\n",
       "        vertical-align: top;\n",
       "    }\n",
       "\n",
       "    .dataframe thead th {\n",
       "        text-align: right;\n",
       "    }\n",
       "</style>\n",
       "<table border=\"1\" class=\"dataframe\">\n",
       "  <thead>\n",
       "    <tr style=\"text-align: right;\">\n",
       "      <th></th>\n",
       "      <th>Unnamed: 0</th>\n",
       "      <th>beta0</th>\n",
       "      <th>beta1</th>\n",
       "      <th>beta2</th>\n",
       "      <th>delta</th>\n",
       "      <th>e0</th>\n",
       "      <th>ia0</th>\n",
       "      <th>is0</th>\n",
       "      <th>state</th>\n",
       "      <th>tcut0</th>\n",
       "      <th>tcut1</th>\n",
       "      <th>type</th>\n",
       "    </tr>\n",
       "  </thead>\n",
       "  <tbody>\n",
       "    <tr>\n",
       "      <th>0</th>\n",
       "      <td>0</td>\n",
       "      <td>1.164814</td>\n",
       "      <td>0.960553</td>\n",
       "      <td>NaN</td>\n",
       "      <td>0.359780</td>\n",
       "      <td>2.675490e-06</td>\n",
       "      <td>1.642885e-06</td>\n",
       "      <td>1.310086e-09</td>\n",
       "      <td>TO</td>\n",
       "      <td>129.442472</td>\n",
       "      <td>NaN</td>\n",
       "      <td>estado</td>\n",
       "    </tr>\n",
       "    <tr>\n",
       "      <th>1</th>\n",
       "      <td>1</td>\n",
       "      <td>1.238291</td>\n",
       "      <td>1.071901</td>\n",
       "      <td>NaN</td>\n",
       "      <td>0.323895</td>\n",
       "      <td>3.330459e-06</td>\n",
       "      <td>1.280108e-07</td>\n",
       "      <td>2.143226e-07</td>\n",
       "      <td>TO</td>\n",
       "      <td>129.179203</td>\n",
       "      <td>NaN</td>\n",
       "      <td>estado</td>\n",
       "    </tr>\n",
       "    <tr>\n",
       "      <th>2</th>\n",
       "      <td>2</td>\n",
       "      <td>0.689860</td>\n",
       "      <td>1.567979</td>\n",
       "      <td>NaN</td>\n",
       "      <td>0.182781</td>\n",
       "      <td>6.235248e-06</td>\n",
       "      <td>1.906463e-06</td>\n",
       "      <td>5.989215e-06</td>\n",
       "      <td>TO</td>\n",
       "      <td>92.421808</td>\n",
       "      <td>NaN</td>\n",
       "      <td>estado</td>\n",
       "    </tr>\n",
       "    <tr>\n",
       "      <th>3</th>\n",
       "      <td>3</td>\n",
       "      <td>1.075234</td>\n",
       "      <td>0.832754</td>\n",
       "      <td>NaN</td>\n",
       "      <td>0.440365</td>\n",
       "      <td>1.894274e-06</td>\n",
       "      <td>5.513995e-07</td>\n",
       "      <td>1.465581e-07</td>\n",
       "      <td>TO</td>\n",
       "      <td>131.501079</td>\n",
       "      <td>NaN</td>\n",
       "      <td>estado</td>\n",
       "    </tr>\n",
       "    <tr>\n",
       "      <th>4</th>\n",
       "      <td>4</td>\n",
       "      <td>1.185444</td>\n",
       "      <td>0.964143</td>\n",
       "      <td>NaN</td>\n",
       "      <td>0.368267</td>\n",
       "      <td>9.302543e-07</td>\n",
       "      <td>1.954695e-06</td>\n",
       "      <td>1.544150e-07</td>\n",
       "      <td>TO</td>\n",
       "      <td>127.227360</td>\n",
       "      <td>NaN</td>\n",
       "      <td>estado</td>\n",
       "    </tr>\n",
       "  </tbody>\n",
       "</table>\n",
       "</div>"
      ],
      "text/plain": [
       "   Unnamed: 0     beta0     beta1  beta2     delta            e0  \\\n",
       "0           0  1.164814  0.960553    NaN  0.359780  2.675490e-06   \n",
       "1           1  1.238291  1.071901    NaN  0.323895  3.330459e-06   \n",
       "2           2  0.689860  1.567979    NaN  0.182781  6.235248e-06   \n",
       "3           3  1.075234  0.832754    NaN  0.440365  1.894274e-06   \n",
       "4           4  1.185444  0.964143    NaN  0.368267  9.302543e-07   \n",
       "\n",
       "            ia0           is0 state       tcut0  tcut1    type  \n",
       "0  1.642885e-06  1.310086e-09    TO  129.442472    NaN  estado  \n",
       "1  1.280108e-07  2.143226e-07    TO  129.179203    NaN  estado  \n",
       "2  1.906463e-06  5.989215e-06    TO   92.421808    NaN  estado  \n",
       "3  5.513995e-07  1.465581e-07    TO  131.501079    NaN  estado  \n",
       "4  1.954695e-06  1.544150e-07    TO  127.227360    NaN  estado  "
      ]
     },
     "execution_count": 4,
     "metadata": {},
     "output_type": "execute_result"
    }
   ],
   "source": [
    "df = pd.concat(lst_df,sort=True)\n",
    "df.head()"
   ]
  },
  {
   "cell_type": "markdown",
   "metadata": {},
   "source": [
    "## Calculation of the confidence intervals"
   ]
  },
  {
   "cell_type": "code",
   "execution_count": 5,
   "metadata": {},
   "outputs": [],
   "source": [
    "import scipy.stats\n",
    "\n",
    "def mean_confidence_interval(data, confidence=0.95):\n",
    "    a = 1.0 * np.array(data)\n",
    "    n = len(a)\n",
    "    m, se = np.median(a), scipy.stats.sem(a)\n",
    "    h = se * scipy.stats.skewnorm.ppf((1 + confidence) / 2., n-1)\n",
    "    return m, m-h, m+h\n",
    "\n",
    "def day_date(t):\n",
    "    t_date = []\n",
    "    for days in t:\n",
    "        days = np.nan_to_num(days)\n",
    "        date = datetime.datetime(2020, 1, 1) + datetime.timedelta(int(days) - 1)\n",
    "        t_date.append(date)\n",
    "\n",
    "    return(t_date)\n",
    "\n",
    "def r0(b,delta,gammaA=1/3.5,gammaS=1/4,p=0.2):\n",
    "\n",
    "    R0a = b*delta/gammaA\n",
    "\n",
    "    R0s = b/gammaS\n",
    "\n",
    "    R0_geral = p*R0s + (1-p)*R0a\n",
    "    \n",
    "    return(R0_geral)"
   ]
  },
  {
   "cell_type": "code",
   "execution_count": 9,
   "metadata": {
    "scrolled": false
   },
   "outputs": [
    {
     "name": "stderr",
     "output_type": "stream",
     "text": [
      "/Users/julianeoliveira/opt/anaconda3/lib/python3.8/site-packages/numpy/core/fromnumeric.py:3372: RuntimeWarning: Mean of empty slice.\n",
      "  return _methods._mean(a, axis=axis, dtype=dtype,\n",
      "/Users/julianeoliveira/opt/anaconda3/lib/python3.8/site-packages/numpy/core/_methods.py:170: RuntimeWarning: invalid value encountered in double_scalars\n",
      "  ret = ret.dtype.type(ret / rcount)\n",
      "/Users/julianeoliveira/opt/anaconda3/lib/python3.8/site-packages/numpy/core/_methods.py:233: RuntimeWarning: Degrees of freedom <= 0 for slice\n",
      "  ret = _var(a, axis=axis, dtype=dtype, out=out, ddof=ddof,\n",
      "/Users/julianeoliveira/opt/anaconda3/lib/python3.8/site-packages/numpy/core/_methods.py:194: RuntimeWarning: invalid value encountered in true_divide\n",
      "  arrmean = um.true_divide(\n",
      "/Users/julianeoliveira/opt/anaconda3/lib/python3.8/site-packages/numpy/core/_methods.py:226: RuntimeWarning: invalid value encountered in double_scalars\n",
      "  ret = ret.dtype.type(ret / rcount)\n"
     ]
    }
   ],
   "source": [
    "dfs = []\n",
    "for uf in df.state.unique():\n",
    "    for area in df.type.unique():\n",
    "    \n",
    "        frame = df[(df.state == uf) & (df.type == area)]\n",
    "\n",
    "\n",
    "        beta0= np.array(mean_confidence_interval(frame['beta0'], confidence=0.95))\n",
    "\n",
    "        beta0Round = np.round(mean_confidence_interval(frame['beta0'], confidence=0.95), decimals=2)\n",
    "\n",
    "        beta1 = np.round(mean_confidence_interval(frame['beta1'], confidence=0.95), decimals=2)\n",
    "\n",
    "        beta2 = np.round(mean_confidence_interval(frame['beta2'], confidence=0.95), decimals=2)\n",
    "\n",
    "        delta = np.array(mean_confidence_interval(frame['delta'], confidence=0.95))\n",
    "\n",
    "        deltaRound = np.round(mean_confidence_interval(frame['delta'], confidence=0.95), decimals=2)\n",
    "\n",
    "        tcut0 = np.round(mean_confidence_interval(frame['tcut0'], confidence=0.95), decimals=0)\n",
    "\n",
    "        tcut1 = np.round(mean_confidence_interval(frame['tcut1'], confidence=0.95), decimals=0)\n",
    "\n",
    "        tcut0_date = np.array(day_date(tcut0))\n",
    "\n",
    "        tcut1_date = np.array(day_date(tcut1))\n",
    "\n",
    "        R0 = np.round(r0(beta0,delta),2)\n",
    "    \n",
    "        data = np.array([beta0, beta1,delta,tcut0,tcut0_date,tcut1,tcut1_date,R0])\n",
    "        df1 = pd.DataFrame(data=data, index=['beta0','beta1','delta','tcut0','tcut0_date','tcut1','tcut1_date','R0'],columns=['median','lower','upper']).transpose()\n",
    "        df1['state'] = uf\n",
    "        df1['type'] = area\n",
    "        dfs.append(df1)"
   ]
  },
  {
   "cell_type": "code",
   "execution_count": 10,
   "metadata": {
    "scrolled": true
   },
   "outputs": [
    {
     "data": {
      "text/plain": [
       "[          beta0 beta1     delta tcut0 tcut0_date tcut1 tcut1_date    R0 state  \\\n",
       " median  1.14124  1.08  0.312494   128 2020-05-07   NaN 2019-12-31  1.91    TO   \n",
       " lower   1.07155  1.02   0.28256   125 2020-05-04   NaN 2019-12-31  1.71    TO   \n",
       " upper   1.21093  1.13  0.342427   131 2020-05-10   NaN 2019-12-31  2.13    TO   \n",
       " \n",
       "           type  \n",
       " median  estado  \n",
       " lower   estado  \n",
       " upper   estado  ,\n",
       "            beta0 beta1     delta tcut0 tcut0_date tcut1 tcut1_date    R0  \\\n",
       " median   0.96462  0.88  0.213145   129 2020-05-08   NaN 2019-12-31  1.35   \n",
       " lower   0.882606  0.79  0.183743   125 2020-05-04   NaN 2019-12-31  1.16   \n",
       " upper    1.04663  0.97  0.242547   134 2020-05-13   NaN 2019-12-31  1.55   \n",
       " \n",
       "        state     type  \n",
       " median    TO  capital  \n",
       " lower     TO  capital  \n",
       " upper     TO  capital  ,\n",
       "           beta0 beta1     delta tcut0 tcut0_date tcut1 tcut1_date    R0 state  \\\n",
       " median  1.38536  1.05   0.34198   129 2020-05-08   NaN 2019-12-31  2.43    TO   \n",
       " lower   1.33612  1.01  0.318074   128 2020-05-07   NaN 2019-12-31  2.26    TO   \n",
       " upper   1.43459   1.1  0.365885   130 2020-05-09   NaN 2019-12-31  2.62    TO   \n",
       " \n",
       "             type  \n",
       " median  interior  \n",
       " lower   interior  \n",
       " upper   interior  ,\n",
       "           beta0 beta1     delta tcut0 tcut0_date tcut1 tcut1_date    R0 state  \\\n",
       " median  1.38494  0.94  0.285026   119 2020-04-28   NaN 2019-12-31  2.21    AL   \n",
       " lower   1.32552   0.9  0.257268   119 2020-04-28   NaN 2019-12-31  2.02    AL   \n",
       " upper   1.44436  0.98  0.312784   120 2020-04-29   NaN 2019-12-31  2.42    AL   \n",
       " \n",
       "           type  \n",
       " median  estado  \n",
       " lower   estado  \n",
       " upper   estado  ,\n",
       "           beta0 beta1     delta tcut0 tcut0_date tcut1 tcut1_date    R0 state  \\\n",
       " median  1.39781  0.81   0.26533   120 2020-04-29   NaN 2019-12-31  2.16    AL   \n",
       " lower   1.33394  0.76  0.238913   120 2020-04-29   NaN 2019-12-31  1.96    AL   \n",
       " upper   1.46169  0.85  0.291747   121 2020-04-30   NaN 2019-12-31  2.36    AL   \n",
       " \n",
       "            type  \n",
       " median  capital  \n",
       " lower   capital  \n",
       " upper   capital  ,\n",
       "           beta0 beta1     delta tcut0 tcut0_date tcut1 tcut1_date    R0 state  \\\n",
       " median  1.07923  1.48  0.368471   140 2020-05-19   NaN 2019-12-31  1.98    AL   \n",
       " lower   1.02582  1.41  0.340787   137 2020-05-16   NaN 2019-12-31   1.8    AL   \n",
       " upper   1.13264  1.55  0.396154   143 2020-05-22   NaN 2019-12-31  2.16    AL   \n",
       " \n",
       "             type  \n",
       " median  interior  \n",
       " lower   interior  \n",
       " upper   interior  ,\n",
       "           beta0 beta1     delta tcut0 tcut0_date tcut1 tcut1_date    R0 state  \\\n",
       " median  1.62041  0.81  0.417182    97 2020-04-06   NaN 2019-12-31  3.19    AM   \n",
       " lower   1.57569  0.78  0.394608    96 2020-04-05   NaN 2019-12-31     3    AM   \n",
       " upper   1.66514  0.83  0.439755    97 2020-04-06   NaN 2019-12-31  3.38    AM   \n",
       " \n",
       "           type  \n",
       " median  estado  \n",
       " lower   estado  \n",
       " upper   estado  ,\n",
       "           beta0 beta1     delta tcut0 tcut0_date tcut1 tcut1_date    R0 state  \\\n",
       " median  1.59947  0.77  0.382588    97 2020-04-06   NaN 2019-12-31  2.99    AM   \n",
       " lower   1.55337  0.74  0.359767    96 2020-04-05   NaN 2019-12-31  2.81    AM   \n",
       " upper   1.64556  0.79  0.405408    97 2020-04-06   NaN 2019-12-31  3.18    AM   \n",
       " \n",
       "            type  \n",
       " median  capital  \n",
       " lower   capital  \n",
       " upper   capital  ,\n",
       "           beta0 beta1     delta tcut0 tcut0_date tcut1 tcut1_date    R0 state  \\\n",
       " median  1.55415  0.98  0.298578   120 2020-04-29   NaN 2019-12-31  2.54    AM   \n",
       " lower    1.4951  0.94  0.272559   119 2020-04-28   NaN 2019-12-31  2.34    AM   \n",
       " upper    1.6132  1.02  0.324598   120 2020-04-29   NaN 2019-12-31  2.76    AM   \n",
       " \n",
       "             type  \n",
       " median  interior  \n",
       " lower   interior  \n",
       " upper   interior  ,\n",
       "           beta0 beta1     delta tcut0 tcut0_date tcut1 tcut1_date    R0 state  \\\n",
       " median  1.77008  0.67  0.543733    93 2020-04-02   NaN 2019-12-31  4.11    CE   \n",
       " lower   1.74092  0.66  0.529035    93 2020-04-02   NaN 2019-12-31  3.97    CE   \n",
       " upper   1.79923  0.69  0.558432    94 2020-04-03   NaN 2019-12-31  4.25    CE   \n",
       " \n",
       "           type  \n",
       " median  estado  \n",
       " lower   estado  \n",
       " upper   estado  ,\n",
       "           beta0 beta1     delta tcut0 tcut0_date tcut1 tcut1_date    R0 state  \\\n",
       " median  1.74767   0.6  0.543057    95 2020-04-04   NaN 2019-12-31  4.06    CE   \n",
       " lower   1.71394  0.59  0.525142    94 2020-04-03   NaN 2019-12-31  3.89    CE   \n",
       " upper   1.78139  0.62  0.560973    95 2020-04-04   NaN 2019-12-31  4.22    CE   \n",
       " \n",
       "            type  \n",
       " median  capital  \n",
       " lower   capital  \n",
       " upper   capital  ,\n",
       "           beta0 beta1     delta tcut0 tcut0_date tcut1 tcut1_date    R0 state  \\\n",
       " median  1.39955  1.09   0.32861   107 2020-04-16   NaN 2019-12-31  2.41    CE   \n",
       " lower   1.34534  1.04  0.305057   105 2020-04-14   NaN 2019-12-31  2.23    CE   \n",
       " upper   1.45376  1.13  0.352164   108 2020-04-17   NaN 2019-12-31   2.6    CE   \n",
       " \n",
       "             type  \n",
       " median  interior  \n",
       " lower   interior  \n",
       " upper   interior  ,\n",
       "           beta0 beta1     delta tcut0 tcut0_date tcut1 tcut1_date    R0 state  \\\n",
       " median  1.52675  0.91  0.331085    90 2020-03-30   NaN 2019-12-31  2.64    BA   \n",
       " lower    1.4736  0.88  0.308558    89 2020-03-29   NaN 2019-12-31  2.45    BA   \n",
       " upper    1.5799  0.94  0.353613    90 2020-03-30   NaN 2019-12-31  2.83    BA   \n",
       " \n",
       "           type  \n",
       " median  estado  \n",
       " lower   estado  \n",
       " upper   estado  ,\n",
       "           beta0 beta1     delta tcut0 tcut0_date tcut1 tcut1_date    R0 state  \\\n",
       " median  1.52501  0.89  0.322057    92 2020-04-01   NaN 2019-12-31   2.6    BA   \n",
       " lower   1.47837  0.86  0.296806    90 2020-03-30   NaN 2019-12-31  2.41    BA   \n",
       " upper   1.57166  0.93  0.347309    94 2020-04-03   NaN 2019-12-31  2.79    BA   \n",
       " \n",
       "            type  \n",
       " median  capital  \n",
       " lower   capital  \n",
       " upper   capital  ,\n",
       "           beta0 beta1     delta tcut0 tcut0_date tcut1 tcut1_date    R0 state  \\\n",
       " median  1.38267  0.88  0.302243    94 2020-04-03   131 2020-05-10  2.28    BA   \n",
       " lower   1.32875  0.85  0.280581    93 2020-04-02   131 2020-05-10  2.11    BA   \n",
       " upper    1.4366  0.92  0.323905    96 2020-04-05   131 2020-05-10  2.45    BA   \n",
       " \n",
       "             type  \n",
       " median  interior  \n",
       " lower   interior  \n",
       " upper   interior  ,\n",
       "          beta0 beta1     delta tcut0 tcut0_date tcut1 tcut1_date    R0 state  \\\n",
       " median  1.8178  0.66  0.350201    83 2020-03-23   112 2020-04-21  3.24    DF   \n",
       " lower   1.7736  0.63  0.326975    82 2020-03-22   112 2020-04-21  3.04    DF   \n",
       " upper    1.862  0.69  0.373428    83 2020-03-23   113 2020-04-22  3.44    DF   \n",
       " \n",
       "           type  \n",
       " median  estado  \n",
       " lower   estado  \n",
       " upper   estado  ,\n",
       "        beta0 beta1 delta tcut0 tcut0_date tcut1 tcut1_date  R0 state     type\n",
       " median   NaT   NaT   NaT   NaT 2019-12-31   NaT 2019-12-31 NaT    DF  capital\n",
       " lower    NaT   NaT   NaT   NaT 2019-12-31   NaT 2019-12-31 NaT    DF  capital\n",
       " upper    NaT   NaT   NaT   NaT 2019-12-31   NaT 2019-12-31 NaT    DF  capital,\n",
       "        beta0 beta1 delta tcut0 tcut0_date tcut1 tcut1_date  R0 state      type\n",
       " median   NaT   NaT   NaT   NaT 2019-12-31   NaT 2019-12-31 NaT    DF  interior\n",
       " lower    NaT   NaT   NaT   NaT 2019-12-31   NaT 2019-12-31 NaT    DF  interior\n",
       " upper    NaT   NaT   NaT   NaT 2019-12-31   NaT 2019-12-31 NaT    DF  interior,\n",
       "           beta0 beta1     delta tcut0 tcut0_date tcut1 tcut1_date    R0 state  \\\n",
       " median  1.32829  1.12  0.285084   119 2020-04-28   NaN 2019-12-31  2.12    PB   \n",
       " lower   1.27229  1.07  0.258621   118 2020-04-27   NaN 2019-12-31  1.94    PB   \n",
       " upper   1.38428  1.16  0.311548   120 2020-04-29   NaN 2019-12-31  2.31    PB   \n",
       " \n",
       "           type  \n",
       " median  estado  \n",
       " lower   estado  \n",
       " upper   estado  ,\n",
       "           beta0 beta1     delta tcut0 tcut0_date tcut1 tcut1_date    R0 state  \\\n",
       " median  1.36436  0.86  0.252283   120 2020-04-29   NaN 2019-12-31  2.06    PB   \n",
       " lower   1.30011  0.82  0.222647   120 2020-04-29   NaN 2019-12-31  1.85    PB   \n",
       " upper   1.42861  0.91  0.281919   121 2020-04-30   NaN 2019-12-31  2.27    PB   \n",
       " \n",
       "            type  \n",
       " median  capital  \n",
       " lower   capital  \n",
       " upper   capital  ,\n",
       "           beta0 beta1     delta tcut0 tcut0_date tcut1 tcut1_date    R0 state  \\\n",
       " median  1.25465  1.19  0.343795   133 2020-05-12   NaN 2019-12-31  2.21    PB   \n",
       " lower    1.2056  1.12   0.31908   131 2020-05-10   NaN 2019-12-31  2.04    PB   \n",
       " upper   1.30371  1.25   0.36851   135 2020-05-14   NaN 2019-12-31  2.39    PB   \n",
       " \n",
       "             type  \n",
       " median  interior  \n",
       " lower   interior  \n",
       " upper   interior  ,\n",
       "           beta0 beta1     delta tcut0 tcut0_date tcut1 tcut1_date    R0 state  \\\n",
       " median  1.78269  0.71  0.461622    85 2020-03-25   NaN 2019-12-31  3.73    RJ   \n",
       " lower   1.74481   0.7  0.441593    84 2020-03-24   NaN 2019-12-31  3.55    RJ   \n",
       " upper   1.82058  0.73  0.481651    85 2020-03-25   NaN 2019-12-31  3.91    RJ   \n",
       " \n",
       "           type  \n",
       " median  estado  \n",
       " lower   estado  \n",
       " upper   estado  ,\n",
       "           beta0 beta1     delta tcut0 tcut0_date tcut1 tcut1_date    R0 state  \\\n",
       " median  1.78858  0.71  0.468158    83 2020-03-23   NaN 2019-12-31  3.78    RJ   \n",
       " lower   1.74925  0.68  0.443931    83 2020-03-23   NaN 2019-12-31  3.57    RJ   \n",
       " upper   1.82791  0.73  0.492386    84 2020-03-24   NaN 2019-12-31  3.98    RJ   \n",
       " \n",
       "            type  \n",
       " median  capital  \n",
       " lower   capital  \n",
       " upper   capital  ,\n",
       "           beta0 beta1     delta tcut0 tcut0_date tcut1 tcut1_date    R0 state  \\\n",
       " median  1.42406  0.11  0.242646   138 2020-05-17   NaN 2019-12-31  2.11    RJ   \n",
       " lower    1.3585  0.04  0.211199   134 2020-05-13   NaN 2019-12-31  1.89    RJ   \n",
       " upper   1.48963  0.19  0.274094   142 2020-05-21   NaN 2019-12-31  2.33    RJ   \n",
       " \n",
       "             type  \n",
       " median  interior  \n",
       " lower   interior  \n",
       " upper   interior  ,\n",
       "           beta0 beta1     delta tcut0 tcut0_date tcut1 tcut1_date    R0 state  \\\n",
       " median  1.43581  1.03  0.342636   111 2020-04-20   NaN 2019-12-31  2.53    PA   \n",
       " lower   1.38698  0.99  0.317909   110 2020-04-19   NaN 2019-12-31  2.34    PA   \n",
       " upper   1.48464  1.07  0.367363   112 2020-04-21   NaN 2019-12-31  2.71    PA   \n",
       " \n",
       "           type  \n",
       " median  estado  \n",
       " lower   estado  \n",
       " upper   estado  ,\n",
       "           beta0 beta1     delta tcut0 tcut0_date tcut1 tcut1_date    R0 state  \\\n",
       " median  1.46416  0.92  0.336887   108 2020-04-17   NaN 2019-12-31  2.55    PA   \n",
       " lower   1.40695  0.88  0.309676   107 2020-04-16   NaN 2019-12-31  2.35    PA   \n",
       " upper   1.52138  0.96  0.364099   109 2020-04-18   NaN 2019-12-31  2.77    PA   \n",
       " \n",
       "            type  \n",
       " median  capital  \n",
       " lower   capital  \n",
       " upper   capital  ,\n",
       "           beta0 beta1     delta tcut0 tcut0_date tcut1 tcut1_date    R0 state  \\\n",
       " median  1.45927  1.13  0.334992   115 2020-04-24   NaN 2019-12-31  2.54    PA   \n",
       " lower   1.40385  1.09  0.310239   115 2020-04-24   NaN 2019-12-31  2.34    PA   \n",
       " upper   1.51468  1.18  0.359745   116 2020-04-25   NaN 2019-12-31  2.74    PA   \n",
       " \n",
       "             type  \n",
       " median  interior  \n",
       " lower   interior  \n",
       " upper   interior  ,\n",
       "           beta0 beta1     delta tcut0 tcut0_date tcut1 tcut1_date    R0 state  \\\n",
       " median  1.54268  0.77  0.385257   105 2020-04-14   NaN 2019-12-31   2.9    PE   \n",
       " lower   1.48725  0.75  0.361264   104 2020-04-13   NaN 2019-12-31  2.69    PE   \n",
       " upper   1.59812   0.8  0.409249   105 2020-04-14   NaN 2019-12-31  3.11    PE   \n",
       " \n",
       "           type  \n",
       " median  estado  \n",
       " lower   estado  \n",
       " upper   estado  ,\n",
       "           beta0 beta1     delta tcut0 tcut0_date tcut1 tcut1_date    R0 state  \\\n",
       " median   1.5447  0.82  0.324743   106 2020-04-15   NaN 2019-12-31  2.64    PE   \n",
       " lower   1.48961  0.79  0.300615   106 2020-04-15   NaN 2019-12-31  2.45    PE   \n",
       " upper   1.59979  0.85  0.348871   107 2020-04-16   NaN 2019-12-31  2.84    PE   \n",
       " \n",
       "            type  \n",
       " median  capital  \n",
       " lower   capital  \n",
       " upper   capital  ,\n",
       "           beta0 beta1     delta tcut0 tcut0_date tcut1 tcut1_date    R0 state  \\\n",
       " median  1.54238  0.87  0.328161   107 2020-04-16   NaN 2019-12-31  2.65    PE   \n",
       " lower   1.48916  0.84  0.306203   106 2020-04-15   NaN 2019-12-31  2.47    PE   \n",
       " upper   1.59561   0.9  0.350118   108 2020-04-17   NaN 2019-12-31  2.84    PE   \n",
       " \n",
       "             type  \n",
       " median  interior  \n",
       " lower   interior  \n",
       " upper   interior  ,\n",
       "           beta0 beta1     delta tcut0 tcut0_date tcut1 tcut1_date    R0 state  \\\n",
       " median  1.58707  0.54   0.35159    94 2020-04-03   130 2020-05-09  2.83    PR   \n",
       " lower   1.54687  0.52  0.332793    93 2020-04-02   128 2020-05-07  2.68    PR   \n",
       " upper   1.62726  0.56  0.370386    94 2020-04-03   131 2020-05-10  2.99    PR   \n",
       " \n",
       "           type  \n",
       " median  estado  \n",
       " lower   estado  \n",
       " upper   estado  ,\n",
       "           beta0 beta1     delta tcut0 tcut0_date tcut1 tcut1_date    R0 state  \\\n",
       " median  1.47357   0.5  0.224812    96 2020-04-05   120 2020-04-29  2.11    PR   \n",
       " lower   1.41795  0.47  0.202486    96 2020-04-05   119 2020-04-28  1.94    PR   \n",
       " upper    1.5292  0.53  0.247138    97 2020-04-06   122 2020-05-01  2.28    PR   \n",
       " \n",
       "            type  \n",
       " median  capital  \n",
       " lower   capital  \n",
       " upper   capital  ,\n",
       "           beta0 beta1     delta tcut0 tcut0_date tcut1 tcut1_date    R0 state  \\\n",
       " median  1.66905  0.61   0.33137    93 2020-04-02   131 2020-05-10  2.88    PR   \n",
       " lower   1.62066  0.59  0.310626    93 2020-04-02   130 2020-05-09  2.71    PR   \n",
       " upper   1.71744  0.63  0.352113    94 2020-04-03   132 2020-05-11  3.07    PR   \n",
       " \n",
       "             type  \n",
       " median  interior  \n",
       " lower   interior  \n",
       " upper   interior  ,\n",
       "           beta0 beta1     delta tcut0 tcut0_date tcut1 tcut1_date    R0 state  \\\n",
       " median  1.57055  0.85  0.320609   105 2020-04-14   NaN 2019-12-31  2.67    ES   \n",
       " lower   1.53251  0.83  0.302821   105 2020-04-14   NaN 2019-12-31  2.53    ES   \n",
       " upper   1.60859  0.87  0.338396   106 2020-04-15   NaN 2019-12-31  2.81    ES   \n",
       " \n",
       "           type  \n",
       " median  estado  \n",
       " lower   estado  \n",
       " upper   estado  ,\n",
       "           beta0 beta1     delta tcut0 tcut0_date tcut1 tcut1_date    R0 state  \\\n",
       " median  1.44008  0.96  0.242451   106 2020-04-15   NaN 2019-12-31  2.13    ES   \n",
       " lower   1.37863  0.91  0.212249   105 2020-04-14   NaN 2019-12-31  1.92    ES   \n",
       " upper   1.50153     1  0.272653   106 2020-04-15   NaN 2019-12-31  2.35    ES   \n",
       " \n",
       "            type  \n",
       " median  capital  \n",
       " lower   capital  \n",
       " upper   capital  ,\n",
       "           beta0 beta1     delta tcut0 tcut0_date tcut1 tcut1_date    R0 state  \\\n",
       " median  1.49905  0.85  0.329986   106 2020-04-15   NaN 2019-12-31  2.58    ES   \n",
       " lower   1.45237  0.82  0.307726   105 2020-04-14   NaN 2019-12-31  2.41    ES   \n",
       " upper   1.54573  0.88  0.352246   106 2020-04-15   NaN 2019-12-31  2.76    ES   \n",
       " \n",
       "             type  \n",
       " median  interior  \n",
       " lower   interior  \n",
       " upper   interior  ,\n",
       "           beta0 beta1     delta tcut0 tcut0_date tcut1 tcut1_date    R0 state  \\\n",
       " median  1.67447  0.82   0.37792    88 2020-03-28   NaN 2019-12-31  3.11    RN   \n",
       " lower   1.61792  0.79  0.352699    88 2020-03-28   NaN 2019-12-31  2.89    RN   \n",
       " upper   1.73101  0.85  0.403141    89 2020-03-29   NaN 2019-12-31  3.34    RN   \n",
       " \n",
       "           type  \n",
       " median  estado  \n",
       " lower   estado  \n",
       " upper   estado  ,\n",
       "           beta0 beta1     delta tcut0 tcut0_date tcut1 tcut1_date    R0 state  \\\n",
       " median  1.61285  0.92  0.288008    92 2020-04-01   NaN 2019-12-31  2.59    RN   \n",
       " lower   1.55261  0.88  0.263065    91 2020-03-31   NaN 2019-12-31  2.39    RN   \n",
       " upper   1.67309  0.96  0.312951    93 2020-04-02   NaN 2019-12-31   2.8    RN   \n",
       " \n",
       "            type  \n",
       " median  capital  \n",
       " lower   capital  \n",
       " upper   capital  ,\n",
       "           beta0 beta1     delta tcut0 tcut0_date tcut1 tcut1_date    R0 state  \\\n",
       " median  1.79802  0.81   0.40076    88 2020-03-28   NaN 2019-12-31  3.46    RN   \n",
       " lower   1.74758  0.78  0.371864    87 2020-03-27   NaN 2019-12-31  3.22    RN   \n",
       " upper   1.84846  0.85  0.429656    89 2020-03-29   NaN 2019-12-31   3.7    RN   \n",
       " \n",
       "             type  \n",
       " median  interior  \n",
       " lower   interior  \n",
       " upper   interior  ,\n",
       "           beta0 beta1     delta tcut0 tcut0_date tcut1 tcut1_date    R0 state  \\\n",
       " median  1.36775  0.95  0.259339    95 2020-04-04   NaN 2019-12-31  2.09    GO   \n",
       " lower   1.30365  0.91  0.234055    94 2020-04-03   NaN 2019-12-31   1.9    GO   \n",
       " upper   1.43186  0.99  0.284624    96 2020-04-05   NaN 2019-12-31  2.29    GO   \n",
       " \n",
       "           type  \n",
       " median  estado  \n",
       " lower   estado  \n",
       " upper   estado  ,\n",
       "           beta0 beta1     delta tcut0 tcut0_date tcut1 tcut1_date    R0 state  \\\n",
       " median  1.32673  0.89  0.258196    96 2020-04-05   NaN 2019-12-31  2.02    GO   \n",
       " lower   1.25733  0.84  0.228675    95 2020-04-04   NaN 2019-12-31  1.81    GO   \n",
       " upper   1.39612  0.94  0.287717    98 2020-04-07   NaN 2019-12-31  2.24    GO   \n",
       " \n",
       "            type  \n",
       " median  capital  \n",
       " lower   capital  \n",
       " upper   capital  ,\n",
       "           beta0 beta1     delta tcut0 tcut0_date tcut1 tcut1_date    R0 state  \\\n",
       " median  1.11407  1.47  0.191834   132 2020-05-11   NaN 2019-12-31  1.49    GO   \n",
       " lower   1.07301  1.41  0.168793   131 2020-05-10   NaN 2019-12-31  1.37    GO   \n",
       " upper   1.15512  1.53  0.214876   133 2020-05-12   NaN 2019-12-31  1.62    GO   \n",
       " \n",
       "             type  \n",
       " median  interior  \n",
       " lower   interior  \n",
       " upper   interior  ,\n",
       "           beta0 beta1     delta tcut0 tcut0_date tcut1 tcut1_date    R0 state  \\\n",
       " median  1.37041  0.91  0.248472   123 2020-05-02   NaN 2019-12-31  2.05    RO   \n",
       " lower   1.30543  0.87  0.219425   122 2020-05-01   NaN 2019-12-31  1.85    RO   \n",
       " upper    1.4354  0.95  0.277519   124 2020-05-03   NaN 2019-12-31  2.26    RO   \n",
       " \n",
       "           type  \n",
       " median  estado  \n",
       " lower   estado  \n",
       " upper   estado  ,\n",
       "           beta0 beta1     delta tcut0 tcut0_date tcut1 tcut1_date    R0 state  \\\n",
       " median  1.37713  0.86  0.238281   126 2020-05-05   NaN 2019-12-31  2.02    RO   \n",
       " lower   1.31624  0.82  0.212155   126 2020-05-05   NaN 2019-12-31  1.83    RO   \n",
       " upper   1.43803   0.9  0.264407   127 2020-05-06   NaN 2019-12-31  2.22    RO   \n",
       " \n",
       "            type  \n",
       " median  capital  \n",
       " lower   capital  \n",
       " upper   capital  ,\n",
       "           beta0 beta1     delta tcut0 tcut0_date tcut1 tcut1_date    R0 state  \\\n",
       " median  1.09169   1.3  0.341767   123 2020-05-02   NaN 2019-12-31  1.92    RO   \n",
       " lower   1.01795  1.21  0.311277   120 2020-04-29   NaN 2019-12-31   1.7    RO   \n",
       " upper   1.16543   1.4  0.372256   126 2020-05-05   NaN 2019-12-31  2.15    RO   \n",
       " \n",
       "             type  \n",
       " median  interior  \n",
       " lower   interior  \n",
       " upper   interior  ,\n",
       "           beta0 beta1     delta tcut0 tcut0_date tcut1 tcut1_date    R0 state  \\\n",
       " median  1.60214  0.72  0.382964    92 2020-04-01   NaN 2019-12-31     3    SP   \n",
       " lower   1.54885  0.69  0.358382    91 2020-03-31   NaN 2019-12-31  2.79    SP   \n",
       " upper   1.65543  0.74  0.407546    92 2020-04-01   NaN 2019-12-31  3.21    SP   \n",
       " \n",
       "           type  \n",
       " median  estado  \n",
       " lower   estado  \n",
       " upper   estado  ,\n",
       "           beta0 beta1     delta tcut0 tcut0_date tcut1 tcut1_date    R0 state  \\\n",
       " median  1.59055  0.69  0.386696    91 2020-03-31   NaN 2019-12-31  2.99    SP   \n",
       " lower   1.53315  0.66  0.359861    91 2020-03-31   NaN 2019-12-31  2.77    SP   \n",
       " upper   1.64796  0.71  0.413531    92 2020-04-01   NaN 2019-12-31  3.23    SP   \n",
       " \n",
       "            type  \n",
       " median  capital  \n",
       " lower   capital  \n",
       " upper   capital  ,\n",
       "           beta0 beta1     delta tcut0 tcut0_date tcut1 tcut1_date    R0 state  \\\n",
       " median  1.60972  0.71  0.429146    95 2020-04-04   NaN 2019-12-31  3.22    SP   \n",
       " lower   1.55796  0.68  0.405089    94 2020-04-03   NaN 2019-12-31  3.01    SP   \n",
       " upper   1.66149  0.73  0.453202    96 2020-04-05   NaN 2019-12-31  3.44    SP   \n",
       " \n",
       "             type  \n",
       " median  interior  \n",
       " lower   interior  \n",
       " upper   interior  ,\n",
       "           beta0 beta1     delta tcut0 tcut0_date tcut1 tcut1_date    R0 state  \\\n",
       " median  1.30994  0.92  0.294538   120 2020-04-29   NaN 2019-12-31  2.13    PI   \n",
       " lower   1.24729  0.87  0.265563   120 2020-04-29   NaN 2019-12-31  1.93    PI   \n",
       " upper   1.37258  0.96  0.323514   121 2020-04-30   NaN 2019-12-31  2.34    PI   \n",
       " \n",
       "           type  \n",
       " median  estado  \n",
       " lower   estado  \n",
       " upper   estado  ,\n",
       "            beta0 beta1     delta tcut0 tcut0_date tcut1 tcut1_date    R0  \\\n",
       " median  0.861015  1.88  0.595401   130 2020-05-09   NaN 2019-12-31  2.12   \n",
       " lower   0.843384  1.85  0.578986   130 2020-05-09   NaN 2019-12-31  2.04   \n",
       " upper   0.878646  1.91  0.611817   131 2020-05-10   NaN 2019-12-31  2.21   \n",
       " \n",
       "        state     type  \n",
       " median    PI  capital  \n",
       " lower     PI  capital  \n",
       " upper     PI  capital  ,\n",
       "           beta0 beta1     delta tcut0 tcut0_date tcut1 tcut1_date    R0 state  \\\n",
       " median  1.49901  1.05  0.300786   117 2020-04-26   NaN 2019-12-31  2.46    PI   \n",
       " lower     1.443  1.01  0.277034   117 2020-04-26   NaN 2019-12-31  2.27    PI   \n",
       " upper   1.55502  1.09  0.324539   118 2020-04-27   NaN 2019-12-31  2.66    PI   \n",
       " \n",
       "             type  \n",
       " median  interior  \n",
       " lower   interior  \n",
       " upper   interior  ,\n",
       "           beta0 beta1     delta tcut0 tcut0_date tcut1 tcut1_date    R0 state  \\\n",
       " median  1.35177   0.9  0.292458   129 2020-05-08   NaN 2019-12-31  2.19    SE   \n",
       " lower   1.28722  0.85  0.264271   128 2020-05-07   NaN 2019-12-31  1.98    SE   \n",
       " upper   1.41632  0.95  0.320644   130 2020-05-09   NaN 2019-12-31   2.4    SE   \n",
       " \n",
       "           type  \n",
       " median  estado  \n",
       " lower   estado  \n",
       " upper   estado  ,\n",
       "           beta0 beta1     delta tcut0 tcut0_date tcut1 tcut1_date    R0 state  \\\n",
       " median  1.36556  0.84  0.272964   129 2020-05-08   NaN 2019-12-31  2.14    SE   \n",
       " lower   1.31209   0.8  0.249721   128 2020-05-07   NaN 2019-12-31  1.97    SE   \n",
       " upper   1.41902  0.88  0.296208   129 2020-05-08   NaN 2019-12-31  2.31    SE   \n",
       " \n",
       "            type  \n",
       " median  capital  \n",
       " lower   capital  \n",
       " upper   capital  ,\n",
       "            beta0 beta1     delta tcut0 tcut0_date tcut1 tcut1_date    R0  \\\n",
       " median  0.968072  1.03  0.317269   135 2020-05-14   NaN 2019-12-31  1.63   \n",
       " lower   0.873115  0.94  0.285927   130 2020-05-09   NaN 2019-12-31   1.4   \n",
       " upper    1.06303  1.13  0.348612   141 2020-05-20   NaN 2019-12-31  1.89   \n",
       " \n",
       "        state      type  \n",
       " median    SE  interior  \n",
       " lower     SE  interior  \n",
       " upper     SE  interior  ,\n",
       "           beta0 beta1     delta tcut0 tcut0_date tcut1 tcut1_date    R0 state  \\\n",
       " median  1.81457  0.78  0.418462    80 2020-03-20   NaN 2019-12-31  3.58    RS   \n",
       " lower   1.76633  0.75  0.393004    80 2020-03-20   NaN 2019-12-31  3.36    RS   \n",
       " upper   1.86282  0.81  0.443921    81 2020-03-21   NaN 2019-12-31  3.81    RS   \n",
       " \n",
       "           type  \n",
       " median  estado  \n",
       " lower   estado  \n",
       " upper   estado  ,\n",
       "           beta0 beta1     delta tcut0 tcut0_date tcut1 tcut1_date    R0 state  \\\n",
       " median  1.72137  0.42  0.442875    85 2020-03-25   NaN 2019-12-31  3.51    RS   \n",
       " lower   1.67239  0.41  0.419135    84 2020-03-24   NaN 2019-12-31   3.3    RS   \n",
       " upper   1.77035  0.44  0.466614    85 2020-03-25   NaN 2019-12-31  3.73    RS   \n",
       " \n",
       "            type  \n",
       " median  capital  \n",
       " lower   capital  \n",
       " upper   capital  ,\n",
       "            beta0 beta1     delta tcut0 tcut0_date tcut1 tcut1_date    R0  \\\n",
       " median   1.00516  1.65   0.33146   138 2020-05-17   NaN 2019-12-31  1.74   \n",
       " lower   0.950763  1.59  0.302739   136 2020-05-15   NaN 2019-12-31  1.57   \n",
       " upper    1.05955  1.72   0.36018   140 2020-05-19   NaN 2019-12-31  1.92   \n",
       " \n",
       "        state      type  \n",
       " median    RS  interior  \n",
       " lower     RS  interior  \n",
       " upper     RS  interior  ,\n",
       "           beta0 beta1     delta tcut0 tcut0_date tcut1 tcut1_date    R0 state  \\\n",
       " median  1.38846  0.88  0.192071   126 2020-05-05   NaN 2019-12-31  1.86    RR   \n",
       " lower   1.32888  0.84  0.167115   125 2020-05-04   NaN 2019-12-31  1.68    RR   \n",
       " upper   1.44804  0.92  0.217028   127 2020-05-06   NaN 2019-12-31  2.04    RR   \n",
       " \n",
       "           type  \n",
       " median  estado  \n",
       " lower   estado  \n",
       " upper   estado  ,\n",
       "           beta0 beta1     delta tcut0 tcut0_date tcut1 tcut1_date    R0 state  \\\n",
       " median  1.40154  0.93  0.199403   126 2020-05-05   NaN 2019-12-31   1.9    RR   \n",
       " lower   1.34514  0.89  0.171721   124 2020-05-03   NaN 2019-12-31  1.72    RR   \n",
       " upper   1.45795  0.98  0.227085   128 2020-05-07   NaN 2019-12-31  2.09    RR   \n",
       " \n",
       "            type  \n",
       " median  capital  \n",
       " lower   capital  \n",
       " upper   capital  ,\n",
       "           beta0 beta1     delta tcut0 tcut0_date tcut1 tcut1_date    R0 state  \\\n",
       " median  1.27051   0.5  0.273547   134 2020-05-13   NaN 2019-12-31  1.99    RR   \n",
       " lower   1.20791  0.43  0.246086   133 2020-05-12   NaN 2019-12-31   1.8    RR   \n",
       " upper   1.33311  0.56  0.301009   136 2020-05-15   NaN 2019-12-31  2.19    RR   \n",
       " \n",
       "             type  \n",
       " median  interior  \n",
       " lower   interior  \n",
       " upper   interior  ,\n",
       "           beta0 beta1     delta tcut0 tcut0_date tcut1 tcut1_date    R0 state  \\\n",
       " median  1.79805  0.64  0.507495    84 2020-03-24   NaN 2019-12-31  3.99    SC   \n",
       " lower   1.76129  0.61  0.481869    83 2020-03-23   NaN 2019-12-31  3.79    SC   \n",
       " upper   1.83482  0.66   0.53312    84 2020-03-24   NaN 2019-12-31  4.21    SC   \n",
       " \n",
       "           type  \n",
       " median  estado  \n",
       " lower   estado  \n",
       " upper   estado  ,\n",
       "            beta0 beta1     delta tcut0 tcut0_date tcut1 tcut1_date    R0  \\\n",
       " median  0.789553  1.86   0.36172   138 2020-05-17   NaN 2019-12-31  1.43   \n",
       " lower   0.726145  1.76  0.330207   134 2020-05-13   NaN 2019-12-31  1.25   \n",
       " upper   0.852962  1.95  0.393234   141 2020-05-20   NaN 2019-12-31  1.62   \n",
       " \n",
       "        state     type  \n",
       " median    SC  capital  \n",
       " lower     SC  capital  \n",
       " upper     SC  capital  ,\n",
       "           beta0 beta1     delta tcut0 tcut0_date tcut1 tcut1_date    R0 state  \\\n",
       " median  1.78529  0.68  0.471016    84 2020-03-24   NaN 2019-12-31  3.78    SC   \n",
       " lower   1.74227  0.65  0.445733    83 2020-03-23   NaN 2019-12-31  3.57    SC   \n",
       " upper    1.8283  0.71  0.496299    85 2020-03-25   NaN 2019-12-31     4    SC   \n",
       " \n",
       "             type  \n",
       " median  interior  \n",
       " lower   interior  \n",
       " upper   interior  ,\n",
       "           beta0 beta1     delta tcut0 tcut0_date tcut1 tcut1_date    R0 state  \\\n",
       " median  1.67477  0.67  0.285784    95 2020-04-04   117 2020-04-26  2.68    MT   \n",
       " lower   1.62388  0.63  0.263702    94 2020-04-03   116 2020-04-25   2.5    MT   \n",
       " upper   1.72566  0.71  0.307865    95 2020-04-04   119 2020-04-28  2.87    MT   \n",
       " \n",
       "           type  \n",
       " median  estado  \n",
       " lower   estado  \n",
       " upper   estado  ,\n",
       "           beta0 beta1     delta tcut0 tcut0_date tcut1 tcut1_date    R0 state  \\\n",
       " median  1.51134  0.61  0.262276    95 2020-04-04   123 2020-05-02  2.32    MT   \n",
       " lower   1.44475  0.57  0.236664    95 2020-04-04   123 2020-05-02  2.11    MT   \n",
       " upper   1.57792  0.64  0.287887    96 2020-04-05   124 2020-05-03  2.53    MT   \n",
       " \n",
       "            type  \n",
       " median  capital  \n",
       " lower   capital  \n",
       " upper   capital  ,\n",
       "           beta0 beta1     delta tcut0 tcut0_date tcut1 tcut1_date    R0 state  \\\n",
       " median   1.5644  0.65  0.267278    97 2020-04-06   110 2020-04-19  2.42    MT   \n",
       " lower   1.50073   0.6  0.241587    96 2020-04-05   108 2020-04-17  2.22    MT   \n",
       " upper   1.62806   0.7  0.292969    97 2020-04-06   111 2020-04-20  2.64    MT   \n",
       " \n",
       "             type  \n",
       " median  interior  \n",
       " lower   interior  \n",
       " upper   interior  ,\n",
       "           beta0 beta1     delta tcut0 tcut0_date tcut1 tcut1_date    R0 state  \\\n",
       " median  1.07531  1.57  0.315107   138 2020-05-17   NaN 2019-12-31  1.81    AC   \n",
       " lower   1.02418   1.5  0.286021   138 2020-05-17   NaN 2019-12-31  1.64    AC   \n",
       " upper   1.12645  1.63  0.344193   139 2020-05-18   NaN 2019-12-31  1.99    AC   \n",
       " \n",
       "           type  \n",
       " median  estado  \n",
       " lower   estado  \n",
       " upper   estado  ,\n",
       "           beta0 beta1     delta tcut0 tcut0_date tcut1 tcut1_date    R0 state  \\\n",
       " median  1.40985  0.95  0.222351   126 2020-05-05   NaN 2019-12-31  2.01    AC   \n",
       " lower   1.35385  0.91   0.19974   125 2020-05-04   NaN 2019-12-31  1.84    AC   \n",
       " upper   1.46585  0.98  0.244961   126 2020-05-05   NaN 2019-12-31  2.18    AC   \n",
       " \n",
       "            type  \n",
       " median  capital  \n",
       " lower   capital  \n",
       " upper   capital  ,\n",
       "            beta0 beta1     delta tcut0 tcut0_date tcut1 tcut1_date    R0  \\\n",
       " median  0.833779  1.91   0.55491   139 2020-05-18   NaN 2019-12-31  1.96   \n",
       " lower   0.807334  1.87  0.530234   138 2020-05-17   NaN 2019-12-31  1.84   \n",
       " upper   0.860223  1.95  0.579587   140 2020-05-19   NaN 2019-12-31  2.08   \n",
       " \n",
       "        state      type  \n",
       " median    AC  interior  \n",
       " lower     AC  interior  \n",
       " upper     AC  interior  ,\n",
       "           beta0 beta1     delta tcut0 tcut0_date tcut1 tcut1_date    R0 state  \\\n",
       " median  1.55489  0.86  0.375581   106 2020-04-15   NaN 2019-12-31  2.88    MA   \n",
       " lower   1.51358  0.84  0.356766   106 2020-04-15   NaN 2019-12-31  2.72    MA   \n",
       " upper    1.5962  0.89  0.394397   107 2020-04-16   NaN 2019-12-31  3.04    MA   \n",
       " \n",
       "           type  \n",
       " median  estado  \n",
       " lower   estado  \n",
       " upper   estado  ,\n",
       "           beta0 beta1     delta tcut0 tcut0_date tcut1 tcut1_date    R0 state  \\\n",
       " median  1.52255  0.65  0.390355   108 2020-04-17   NaN 2019-12-31  2.88    MA   \n",
       " lower   1.47371  0.63  0.365442   107 2020-04-16   NaN 2019-12-31  2.69    MA   \n",
       " upper    1.5714  0.68  0.415267   108 2020-04-17   NaN 2019-12-31  3.08    MA   \n",
       " \n",
       "            type  \n",
       " median  capital  \n",
       " lower   capital  \n",
       " upper   capital  ,\n",
       "           beta0 beta1     delta tcut0 tcut0_date tcut1 tcut1_date    R0 state  \\\n",
       " median  1.54629  1.02  0.310795   129 2020-05-08   NaN 2019-12-31  2.58    MA   \n",
       " lower   1.49715  0.98  0.289397   128 2020-05-07   NaN 2019-12-31  2.41    MA   \n",
       " upper   1.59543  1.05  0.332192   129 2020-05-08   NaN 2019-12-31  2.76    MA   \n",
       " \n",
       "             type  \n",
       " median  interior  \n",
       " lower   interior  \n",
       " upper   interior  ,\n",
       "           beta0 beta1     delta tcut0 tcut0_date tcut1 tcut1_date    R0 state  \\\n",
       " median  1.77182  0.84  0.398119   100 2020-04-09   NaN 2019-12-31  3.39    AP   \n",
       " lower   1.71359  0.81  0.373333   100 2020-04-09   NaN 2019-12-31  3.16    AP   \n",
       " upper   1.83005  0.87  0.422906   101 2020-04-10   NaN 2019-12-31  3.63    AP   \n",
       " \n",
       "           type  \n",
       " median  estado  \n",
       " lower   estado  \n",
       " upper   estado  ,\n",
       "           beta0 beta1     delta tcut0 tcut0_date tcut1 tcut1_date    R0 state  \\\n",
       " median  1.76317   0.8  0.342654   101 2020-04-10   NaN 2019-12-31   3.1    AP   \n",
       " lower    1.7011  0.77  0.315284    99 2020-04-08   NaN 2019-12-31  2.86    AP   \n",
       " upper   1.82524  0.83  0.370025   103 2020-04-12   NaN 2019-12-31  3.35    AP   \n",
       " \n",
       "            type  \n",
       " median  capital  \n",
       " lower   capital  \n",
       " upper   capital  ,\n",
       "           beta0 beta1     delta tcut0 tcut0_date tcut1 tcut1_date    R0 state  \\\n",
       " median  1.11797  1.82  0.392626   139 2020-05-18   NaN 2019-12-31  2.12    AP   \n",
       " lower   1.05972  1.75  0.366391   136 2020-05-15   NaN 2019-12-31  1.93    AP   \n",
       " upper   1.17622  1.89   0.41886   141 2020-05-20   NaN 2019-12-31  2.32    AP   \n",
       " \n",
       "             type  \n",
       " median  interior  \n",
       " lower   interior  \n",
       " upper   interior  ,\n",
       "           beta0 beta1     delta tcut0 tcut0_date tcut1 tcut1_date    R0 state  \\\n",
       " median  1.17952  1.58  0.129683   127 2020-05-06   NaN 2019-12-31  1.37    MS   \n",
       " lower   1.14129  1.53  0.113397   126 2020-05-05   NaN 2019-12-31  1.28    MS   \n",
       " upper   1.21775  1.63  0.145969   127 2020-05-06   NaN 2019-12-31  1.47    MS   \n",
       " \n",
       "           type  \n",
       " median  estado  \n",
       " lower   estado  \n",
       " upper   estado  ,\n",
       "           beta0 beta1     delta tcut0 tcut0_date tcut1 tcut1_date    R0 state  \\\n",
       " median  1.09075  1.63  0.129618   134 2020-05-13   NaN 2019-12-31  1.27    MS   \n",
       " lower   1.01995  1.54  0.101697   130 2020-05-09   NaN 2019-12-31  1.11    MS   \n",
       " upper   1.16155  1.72   0.15754   138 2020-05-17   NaN 2019-12-31  1.44    MS   \n",
       " \n",
       "            type  \n",
       " median  capital  \n",
       " lower   capital  \n",
       " upper   capital  ,\n",
       "           beta0 beta1     delta tcut0 tcut0_date tcut1 tcut1_date    R0 state  \\\n",
       " median  1.04156  1.54  0.168748   124 2020-05-03   NaN 2019-12-31  1.33    MS   \n",
       " lower   1.00691  1.48  0.150144   123 2020-05-02   NaN 2019-12-31  1.23    MS   \n",
       " upper    1.0762   1.6  0.187352   124 2020-05-03   NaN 2019-12-31  1.43    MS   \n",
       " \n",
       "             type  \n",
       " median  interior  \n",
       " lower   interior  \n",
       " upper   interior  ,\n",
       "           beta0 beta1     delta tcut0 tcut0_date tcut1 tcut1_date    R0 state  \\\n",
       " median  1.78665  0.67  0.460041    82 2020-03-22   NaN 2019-12-31  3.73    MG   \n",
       " lower   1.74095  0.64  0.434775    82 2020-03-22   NaN 2019-12-31  3.51    MG   \n",
       " upper   1.83235  0.69  0.485306    83 2020-03-23   NaN 2019-12-31  3.96    MG   \n",
       " \n",
       "           type  \n",
       " median  estado  \n",
       " lower   estado  \n",
       " upper   estado  ,\n",
       "           beta0 beta1     delta tcut0 tcut0_date tcut1 tcut1_date    R0 state  \\\n",
       " median  1.87344  0.53  0.503895    85 2020-03-25   NaN 2019-12-31  4.14    MG   \n",
       " lower   1.83569  0.51  0.480514    85 2020-03-25   NaN 2019-12-31  3.94    MG   \n",
       " upper    1.9112  0.55  0.527276    85 2020-03-25   NaN 2019-12-31  4.35    MG   \n",
       " \n",
       "            type  \n",
       " median  capital  \n",
       " lower   capital  \n",
       " upper   capital  ,\n",
       "           beta0 beta1     delta tcut0 tcut0_date tcut1 tcut1_date    R0 state  \\\n",
       " median   1.6902  0.86  0.337445    83 2020-03-23   NaN 2019-12-31  2.95    MG   \n",
       " lower   1.62932  0.83  0.314025    82 2020-03-22   NaN 2019-12-31  2.74    MG   \n",
       " upper   1.75109  0.89  0.360865    84 2020-03-24   NaN 2019-12-31  3.17    MG   \n",
       " \n",
       "             type  \n",
       " median  interior  \n",
       " lower   interior  \n",
       " upper   interior  ]"
      ]
     },
     "execution_count": 10,
     "metadata": {},
     "output_type": "execute_result"
    }
   ],
   "source": [
    "dfs"
   ]
  },
  {
   "cell_type": "code",
   "execution_count": 12,
   "metadata": {},
   "outputs": [],
   "source": [
    "dfs_result = pd.concat(dfs,sort=True)"
   ]
  },
  {
   "cell_type": "code",
   "execution_count": 14,
   "metadata": {},
   "outputs": [],
   "source": [
    "dfs_result.to_csv('/Users/julianeoliveira/Desktop/dropbox_15_11_2019/Artigos_preprints/COVID19/Paper_submissions/Paper2/Assessing-the-nationwide-impact-of-COVID-19-mitigation-policies-on-the-transmission-rate-of-SARS-CoV/results/ic_par.csv')"
   ]
  },
  {
   "cell_type": "markdown",
   "metadata": {},
   "source": [
    "# Analises diversas"
   ]
  },
  {
   "cell_type": "code",
   "execution_count": null,
   "metadata": {},
   "outputs": [],
   "source": [
    "overall_pearson_r = new.corr().iloc[0,1]\n",
    "print(f\"Pandas computed Pearson r: {overall_pearson_r}\")\n",
    "\n",
    "# Compute rolling window synchrony\n",
    "f,ax=plt.subplots(figsize=(7,3))\n",
    "new.rolling(window=1,center=True).median().plot(ax=ax)\n",
    "ax.set(xlabel='Time',ylabel='Pearson r')\n",
    "ax.set(title=f\"Overall Pearson r = {np.round(overall_pearson_r,2)}\");"
   ]
  },
  {
   "cell_type": "code",
   "execution_count": null,
   "metadata": {
    "scrolled": false
   },
   "outputs": [],
   "source": [
    "# Set window size to compute moving window synchrony.\n",
    "r_window_size = 8\n",
    "# Interpolate missing data.\n",
    "df_interpolated = new.interpolate()\n",
    "# Compute rolling window synchrony\n",
    "rolling_r = df_interpolated['new_confirmed'].rolling(window=r_window_size, center=True).corr(df_interpolated['isolated'])\n",
    "f,ax=plt.subplots(2,1,figsize=(14,6),sharex=True)\n",
    "new.rolling(window=10,center=True).median().plot(ax=ax[0])\n",
    "ax[0].set(xlabel='Frame',ylabel='Smiling Evidence')\n",
    "rolling_r.plot(ax=ax[1])\n",
    "ax[1].set(xlabel='Frame',ylabel='Pearson r')\n",
    "plt.suptitle(\"Smiling data and rolling window correlation\")\n"
   ]
  },
  {
   "cell_type": "code",
   "execution_count": null,
   "metadata": {},
   "outputs": [],
   "source": [
    "from statsmodels.tsa.stattools import adfuller\n",
    "def test_stationarity(timeseries):\n",
    "    \n",
    "    #Perform Dickey-Fuller test:\n",
    "    print ('Results of Dickey-Fuller Test:')\n",
    "    dftest = adfuller(timeseries, autolag='AIC')\n",
    "    dfoutput = pd.Series(dftest[0:4], index=['Test Statistic','p-value','#Lags Used','Number of Observations Used'])\n",
    "    for key,value in dftest[4].items():\n",
    "        dfoutput['Critical Value (%s)'%key] = value\n",
    "    print (dfoutput)"
   ]
  },
  {
   "cell_type": "code",
   "execution_count": null,
   "metadata": {
    "scrolled": false
   },
   "outputs": [],
   "source": [
    "import functools\n",
    "new.apply(functools.partial(test_stationarity))"
   ]
  },
  {
   "cell_type": "code",
   "execution_count": null,
   "metadata": {
    "scrolled": true
   },
   "outputs": [],
   "source": [
    "newLog.apply(functools.partial(test_stationarity))"
   ]
  },
  {
   "cell_type": "code",
   "execution_count": null,
   "metadata": {
    "scrolled": true
   },
   "outputs": [],
   "source": [
    "# Differencing to get the data stationary\n",
    "newDiff = new.diff().dropna()\n",
    "newDiff"
   ]
  },
  {
   "cell_type": "code",
   "execution_count": null,
   "metadata": {
    "scrolled": false
   },
   "outputs": [],
   "source": [
    "newDiff.apply(functools.partial(test_stationarity))"
   ]
  },
  {
   "cell_type": "code",
   "execution_count": null,
   "metadata": {},
   "outputs": [],
   "source": [
    "newDiff = newDiff.apply(pd.to_numeric)"
   ]
  },
  {
   "cell_type": "code",
   "execution_count": null,
   "metadata": {
    "scrolled": true
   },
   "outputs": [],
   "source": [
    "from statsmodels.tsa.vector_ar.var_model import VAR\n",
    "\n",
    "model = VAR(newDiff)"
   ]
  },
  {
   "cell_type": "code",
   "execution_count": null,
   "metadata": {
    "scrolled": false
   },
   "outputs": [],
   "source": [
    "# Best model order (automatic selection)\n",
    "model1 = model.select_order()\n",
    "model1.summary()"
   ]
  },
  {
   "cell_type": "code",
   "execution_count": null,
   "metadata": {},
   "outputs": [],
   "source": [
    "#pip install --upgrade statsmodels\n",
    "\n",
    "#!pip install \"statsmodels==0.10.2\""
   ]
  },
  {
   "cell_type": "code",
   "execution_count": null,
   "metadata": {
    "scrolled": true
   },
   "outputs": [],
   "source": [
    "results = model.fit(maxlags=8, ic='aic')\n",
    "results.summary()"
   ]
  },
  {
   "cell_type": "code",
   "execution_count": null,
   "metadata": {},
   "outputs": [],
   "source": [
    "results.fittedvalues"
   ]
  },
  {
   "cell_type": "code",
   "execution_count": null,
   "metadata": {
    "scrolled": true
   },
   "outputs": [],
   "source": [
    "# Autocorrelation function (ACF) plot of the residuals with 2=pT bounds.\n",
    "results.plot_acorr()\n",
    "#fig.tight_layout()\n",
    "#plt.savefig('ACF_residual.pdf')\n"
   ]
  },
  {
   "cell_type": "code",
   "execution_count": null,
   "metadata": {},
   "outputs": [],
   "source": [
    "from pandas import read_csv\n",
    "from matplotlib import pyplot\n",
    "from statsmodels.graphics.tsaplots import plot_acf"
   ]
  },
  {
   "cell_type": "code",
   "execution_count": null,
   "metadata": {
    "scrolled": true
   },
   "outputs": [],
   "source": [
    "plot_acf(newLog.new_confirmed)"
   ]
  },
  {
   "cell_type": "code",
   "execution_count": null,
   "metadata": {
    "scrolled": true
   },
   "outputs": [],
   "source": [
    "from statsmodels.graphics.tsaplots import plot_pacf\n",
    "plot_pacf(new.new_confirmed, lags=50)"
   ]
  },
  {
   "cell_type": "code",
   "execution_count": null,
   "metadata": {},
   "outputs": [],
   "source": []
  },
  {
   "cell_type": "code",
   "execution_count": null,
   "metadata": {},
   "outputs": [],
   "source": []
  },
  {
   "cell_type": "code",
   "execution_count": null,
   "metadata": {},
   "outputs": [],
   "source": [
    "AC, Acre; AL, Alagoas; AP, Amapá; AM, Amazonas; BA, Bahia; CE, Ceará; \n",
    "\n",
    "DF, Distrito Federal; ES, Espírito Santo; GO, Goiás; MA, Maranhão; MT, Mato Grosso; \n",
    "\n",
    "MS, Mato Grosso do Sul; MG, Minas Gerais; PA, Pará; PB, Paraíba; PR, Paraná; PE, Pernambuco;\n",
    "\n",
    "PI, Piauí; RJ, Rio de Janeiro; RN, Rio Grande do Norte; RS, Rio Grande do Sul; \n",
    "\n",
    "RO, Rondônia; RR, Roraima; SC, Santa Catarina; SP, São Paulo; SE, Sergipe; TO, Tocantins.\n",
    "\n",
    "\n",
    "\n",
    "\n",
    "print('AC',   3343*100000/8.944700e+05)\n",
    "print('AL',     5300*100000/3.351092e+06)\n",
    "print('AM',    27038*100000/4.207714e+06)\n",
    "print('AP',    5655*100000/8.617730e+05)\n",
    "print('BA',    12558*100000/1.493042e+07)\n",
    "print('CE',    34573*100000/9.187886e+06)\n",
    "print('DF',     5948*100000/3.052546e+06)\n",
    "print('ES',     9520*100000/4.064052e+06)\n",
    "print('GO',    2344*100000/7.116143e+06)\n",
    "print('MA',    18767*100000/7.114598e+06)\n",
    "print('MG',     5995*100000/2.129267e+07)\n",
    "print('MS',      805*100000/2.809394e+06)\n",
    "print('MT',     1271*100000/3.526220e+06)\n",
    "print('PA',    22697*100000/8.690745e+06)\n",
    "print('PB',     6882*100000/4.039277e+06)\n",
    "print('PE',    25760*100000/9.617072e+06)\n",
    "print('PI',     3258*100000/3.280697e+06)\n",
    "print('PR',     2985*100000/1.151684e+07)\n",
    "print('RJ',    33589*100000/1.736619e+07)\n",
    "print('RN',     4598*100000/3.534165e+06)\n",
    "print('RO',     2774*100000/1.796460e+06)\n",
    "print('RR',     2296*100000/6.311810e+05)\n",
    "print('RS',     5918*100000/1.142297e+07)\n",
    "print('SC',     6458*100000/7.252502e+06)\n",
    "print('SE',     4922*100000/2.319032e+06)\n",
    "print('SP',    76871*100000/4.628933e+07)\n",
    "print('TO',     2430*100000/1.590248e+06)           "
   ]
  },
  {
   "cell_type": "code",
   "execution_count": null,
   "metadata": {},
   "outputs": [],
   "source": [
    "sig_uf = []\n",
    "for value in mob.state_name:\n",
    "    if value == 'Minas Gerais': value = 'MG'\n",
    "    elif value == 'Ceará': value = 'CE'\n",
    "    elif value == 'Pernambuco': value = 'PE'\n",
    "    elif value == 'Mato Grosso do Sul': value = 'MS'\n",
    "    elif value == 'Rio Grande do Sul': value = 'RS'\n",
    "    elif value == 'Sergipe': value = 'SE'\n",
    "    elif value == 'Rio Grande do Norte': value = 'RN'\n",
    "    elif value == 'Acre': value = 'AC'\n",
    "    elif value == 'Alagoas': value = 'AL'\n",
    "    elif value == 'Bahia': value = 'BA'\n",
    "    elif value == 'Rondônia': value = 'RO'\n",
    "    elif value == 'Rio de Janeiro': value = 'RJ'\n",
    "    elif value == 'Piauí': value = 'PI'\n",
    "    elif value == 'Paraná': value = 'PR'\n",
    "    elif value == 'Espírito Santo': value = 'ES'\n",
    "    elif value == 'Pará': value = 'PA'\n",
    "    elif value == 'Amapá': value = 'AP'\n",
    "    elif value == 'Mato Grosso': value = 'MT'\n",
    "    elif value == 'Paraíba': value = 'PB'\n",
    "    elif value == 'Roraima': value = 'RR'\n",
    "    elif value == 'Goiás': value = 'GO'\n",
    "    elif value == 'São Paulo': value = 'SP'\n",
    "    elif value == 'Distrito Federal': value = 'DF'\n",
    "    elif value == 'Maranhão': value = 'MA'\n",
    "    elif value == 'Santa Catarina': value = 'SC'\n",
    "    elif value == 'Tocantins': value = 'TO'\n",
    "    elif value == 'Amazonas': value = 'AM'\n",
    "    sig_uf.extend([value])"
   ]
  }
 ],
 "metadata": {
  "kernelspec": {
   "display_name": "Python 3",
   "language": "python",
   "name": "python3"
  },
  "language_info": {
   "codemirror_mode": {
    "name": "ipython",
    "version": 3
   },
   "file_extension": ".py",
   "mimetype": "text/x-python",
   "name": "python",
   "nbconvert_exporter": "python",
   "pygments_lexer": "ipython3",
   "version": "3.8.5"
  }
 },
 "nbformat": 4,
 "nbformat_minor": 2
}
