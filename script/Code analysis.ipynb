{
 "cells": [
  {
   "cell_type": "code",
   "execution_count": 1,
   "metadata": {},
   "outputs": [],
   "source": [
    "import numpy as np\n",
    "import matplotlib.pyplot as plt\n",
    "from scipy.integrate import odeint\n",
    "from scipy.optimize import least_squares\n",
    "import math\n",
    "import pandas as pd\n",
    "import csv\n",
    "from scipy import stats\n",
    "from scipy import optimize\n",
    "from datetime import date, timedelta\n",
    "import random\n",
    "import requests\n",
    "from scipy.stats import truncnorm"
   ]
  },
  {
   "cell_type": "code",
   "execution_count": 2,
   "metadata": {},
   "outputs": [],
   "source": [
    "df = pd.read_csv('/media/juliane_oliveira/My Passport/dropbox_15_11_2019/Artigos_preprints/COVID19/Paper_submissions/Paper2/First review/Data and code analisys/outputs_testing/test_seiir_fits_boots.csv')"
   ]
  },
  {
   "cell_type": "code",
   "execution_count": 3,
   "metadata": {
    "scrolled": false
   },
   "outputs": [
    {
     "data": {
      "text/html": [
       "<div>\n",
       "<style scoped>\n",
       "    .dataframe tbody tr th:only-of-type {\n",
       "        vertical-align: middle;\n",
       "    }\n",
       "\n",
       "    .dataframe tbody tr th {\n",
       "        vertical-align: top;\n",
       "    }\n",
       "\n",
       "    .dataframe thead th {\n",
       "        text-align: right;\n",
       "    }\n",
       "</style>\n",
       "<table border=\"1\" class=\"dataframe\">\n",
       "  <thead>\n",
       "    <tr style=\"text-align: right;\">\n",
       "      <th></th>\n",
       "      <th>Unnamed: 0</th>\n",
       "      <th>state</th>\n",
       "      <th>type</th>\n",
       "      <th>beta0_ls</th>\n",
       "      <th>beta0_ml</th>\n",
       "      <th>beta1_ls</th>\n",
       "      <th>beta1_ml</th>\n",
       "      <th>tcut_ls</th>\n",
       "      <th>tcut_ml</th>\n",
       "      <th>delta_ls</th>\n",
       "      <th>delta_ml</th>\n",
       "      <th>e0_ls</th>\n",
       "      <th>e0_ml</th>\n",
       "      <th>ia0_ls</th>\n",
       "      <th>ia0_ml</th>\n",
       "      <th>is0_ls</th>\n",
       "      <th>is0_ml</th>\n",
       "    </tr>\n",
       "  </thead>\n",
       "  <tbody>\n",
       "    <tr>\n",
       "      <th>0</th>\n",
       "      <td>0</td>\n",
       "      <td>AM</td>\n",
       "      <td>estado</td>\n",
       "      <td>1.233434</td>\n",
       "      <td>1.763611</td>\n",
       "      <td>0.591353</td>\n",
       "      <td>0.708238</td>\n",
       "      <td>93.952321</td>\n",
       "      <td>94.368859</td>\n",
       "      <td>0.700000</td>\n",
       "      <td>0.515792</td>\n",
       "      <td>0.000002</td>\n",
       "      <td>4.753044e-07</td>\n",
       "      <td>0.000002</td>\n",
       "      <td>2.592675e-07</td>\n",
       "      <td>5.443991e-08</td>\n",
       "      <td>6.869455e-07</td>\n",
       "    </tr>\n",
       "    <tr>\n",
       "      <th>1</th>\n",
       "      <td>1</td>\n",
       "      <td>AM</td>\n",
       "      <td>estado</td>\n",
       "      <td>2.000000</td>\n",
       "      <td>1.549807</td>\n",
       "      <td>1.098894</td>\n",
       "      <td>0.748755</td>\n",
       "      <td>96.350096</td>\n",
       "      <td>98.546809</td>\n",
       "      <td>0.247201</td>\n",
       "      <td>0.460819</td>\n",
       "      <td>0.000002</td>\n",
       "      <td>1.031083e-07</td>\n",
       "      <td>0.000002</td>\n",
       "      <td>5.626661e-07</td>\n",
       "      <td>1.172151e-06</td>\n",
       "      <td>1.379001e-06</td>\n",
       "    </tr>\n",
       "    <tr>\n",
       "      <th>2</th>\n",
       "      <td>2</td>\n",
       "      <td>AM</td>\n",
       "      <td>estado</td>\n",
       "      <td>1.155266</td>\n",
       "      <td>1.515730</td>\n",
       "      <td>0.597303</td>\n",
       "      <td>0.812038</td>\n",
       "      <td>94.766717</td>\n",
       "      <td>98.251489</td>\n",
       "      <td>0.699067</td>\n",
       "      <td>0.411809</td>\n",
       "      <td>0.000002</td>\n",
       "      <td>1.006499e-06</td>\n",
       "      <td>0.000002</td>\n",
       "      <td>1.721702e-06</td>\n",
       "      <td>5.789328e-07</td>\n",
       "      <td>1.715864e-06</td>\n",
       "    </tr>\n",
       "    <tr>\n",
       "      <th>3</th>\n",
       "      <td>3</td>\n",
       "      <td>AM</td>\n",
       "      <td>estado</td>\n",
       "      <td>1.997959</td>\n",
       "      <td>1.634999</td>\n",
       "      <td>1.019994</td>\n",
       "      <td>0.872344</td>\n",
       "      <td>93.934599</td>\n",
       "      <td>95.089442</td>\n",
       "      <td>0.290449</td>\n",
       "      <td>0.373129</td>\n",
       "      <td>0.000002</td>\n",
       "      <td>1.522335e-06</td>\n",
       "      <td>0.000002</td>\n",
       "      <td>1.858073e-06</td>\n",
       "      <td>8.602349e-07</td>\n",
       "      <td>1.931153e-06</td>\n",
       "    </tr>\n",
       "    <tr>\n",
       "      <th>4</th>\n",
       "      <td>4</td>\n",
       "      <td>AM</td>\n",
       "      <td>estado</td>\n",
       "      <td>1.213843</td>\n",
       "      <td>1.943396</td>\n",
       "      <td>0.593559</td>\n",
       "      <td>0.846689</td>\n",
       "      <td>94.450127</td>\n",
       "      <td>90.254304</td>\n",
       "      <td>0.700000</td>\n",
       "      <td>0.389947</td>\n",
       "      <td>0.000002</td>\n",
       "      <td>1.428494e-06</td>\n",
       "      <td>0.000002</td>\n",
       "      <td>1.129438e-06</td>\n",
       "      <td>5.052882e-08</td>\n",
       "      <td>1.651239e-06</td>\n",
       "    </tr>\n",
       "  </tbody>\n",
       "</table>\n",
       "</div>"
      ],
      "text/plain": [
       "   Unnamed: 0 state    type  beta0_ls  beta0_ml  beta1_ls  beta1_ml  \\\n",
       "0           0    AM  estado  1.233434  1.763611  0.591353  0.708238   \n",
       "1           1    AM  estado  2.000000  1.549807  1.098894  0.748755   \n",
       "2           2    AM  estado  1.155266  1.515730  0.597303  0.812038   \n",
       "3           3    AM  estado  1.997959  1.634999  1.019994  0.872344   \n",
       "4           4    AM  estado  1.213843  1.943396  0.593559  0.846689   \n",
       "\n",
       "     tcut_ls    tcut_ml  delta_ls  delta_ml     e0_ls         e0_ml    ia0_ls  \\\n",
       "0  93.952321  94.368859  0.700000  0.515792  0.000002  4.753044e-07  0.000002   \n",
       "1  96.350096  98.546809  0.247201  0.460819  0.000002  1.031083e-07  0.000002   \n",
       "2  94.766717  98.251489  0.699067  0.411809  0.000002  1.006499e-06  0.000002   \n",
       "3  93.934599  95.089442  0.290449  0.373129  0.000002  1.522335e-06  0.000002   \n",
       "4  94.450127  90.254304  0.700000  0.389947  0.000002  1.428494e-06  0.000002   \n",
       "\n",
       "         ia0_ml        is0_ls        is0_ml  \n",
       "0  2.592675e-07  5.443991e-08  6.869455e-07  \n",
       "1  5.626661e-07  1.172151e-06  1.379001e-06  \n",
       "2  1.721702e-06  5.789328e-07  1.715864e-06  \n",
       "3  1.858073e-06  8.602349e-07  1.931153e-06  \n",
       "4  1.129438e-06  5.052882e-08  1.651239e-06  "
      ]
     },
     "execution_count": 3,
     "metadata": {},
     "output_type": "execute_result"
    }
   ],
   "source": [
    "df.head()"
   ]
  },
  {
   "cell_type": "code",
   "execution_count": 11,
   "metadata": {},
   "outputs": [],
   "source": [
    "import scipy.stats\n",
    "\n",
    "\n",
    "def mean_confidence_interval(data, confidence=0.95):\n",
    "    a = 1.0 * np.array(data)\n",
    "    n = len(a)\n",
    "    m, se = np.median(a), scipy.stats.sem(a)\n",
    "    h = se * scipy.stats.skewnorm.ppf((1 + confidence) / 2., n-1)\n",
    "    return m, m-h, m+h\n"
   ]
  },
  {
   "cell_type": "code",
   "execution_count": 12,
   "metadata": {
    "scrolled": true
   },
   "outputs": [],
   "source": [
    "lista = [ 'beta0_ls', 'beta0_ml', 'beta1_ls','beta1_ml', 'tcut_ls', 'tcut_ml', 'delta_ls', 'delta_ml', 'e0_ls',\n",
    "       'e0_ml', 'ia0_ls', 'ia0_ml', 'is0_ls', 'is0_ml']"
   ]
  },
  {
   "cell_type": "code",
   "execution_count": 13,
   "metadata": {
    "scrolled": true
   },
   "outputs": [
    {
     "name": "stdout",
     "output_type": "stream",
     "text": [
      "beta0_ls (1.9996389365139469, 1.9103379183224014, 2.0889399547054923)\n",
      "beta0_ml (1.6679693834668634, 1.6276538948050636, 1.7082848721286632)\n",
      "beta1_ls (1.0358874037929677, 0.9848454925618654, 1.0869293150240702)\n",
      "beta1_ml (0.8440423377979086, 0.8203602607043528, 0.8677244148914645)\n",
      "tcut_ls (94.90161285942946, 94.74621738941407, 95.05700832944486)\n",
      "tcut_ml (97.05327512145575, 96.54751104161514, 97.55903920129637)\n",
      "delta_ls (0.28229439977241605, 0.23566979240875308, 0.328919007136079)\n",
      "delta_ml (0.389065808891516, 0.3688341280873538, 0.4092974896956782)\n",
      "e0_ls (2.376587422016826e-06, 2.3599183740948173e-06, 2.3932564699388348e-06)\n",
      "e0_ml (1.1990215284690064e-06, 1.0754532287891466e-06, 1.3225898281488663e-06)\n",
      "ia0_ls (2.376587422016826e-06, 2.376587400503949e-06, 2.376587443529703e-06)\n",
      "ia0_ml (1.2609030062747696e-06, 1.141286721517328e-06, 1.3805192910322113e-06)\n",
      "is0_ls (8.103499569424453e-07, 7.356443539347723e-07, 8.850555599501184e-07)\n",
      "is0_ml (1.4924451641082333e-06, 1.3784685651908844e-06, 1.6064217630255821e-06)\n"
     ]
    }
   ],
   "source": [
    "for value in lista:\n",
    "    print(value, mean_confidence_interval(df[value], confidence=0.95))"
   ]
  },
  {
   "cell_type": "code",
   "execution_count": null,
   "metadata": {},
   "outputs": [],
   "source": []
  }
 ],
 "metadata": {
  "kernelspec": {
   "display_name": "Python 3",
   "language": "python",
   "name": "python3"
  },
  "language_info": {
   "codemirror_mode": {
    "name": "ipython",
    "version": 3
   },
   "file_extension": ".py",
   "mimetype": "text/x-python",
   "name": "python",
   "nbconvert_exporter": "python",
   "pygments_lexer": "ipython3",
   "version": "3.6.6"
  }
 },
 "nbformat": 4,
 "nbformat_minor": 2
}
