{
 "cells": [
  {
   "cell_type": "code",
   "execution_count": 1,
   "metadata": {},
   "outputs": [],
   "source": [
    "import numpy as np\n",
    "import matplotlib.pyplot as plt\n",
    "from scipy.integrate import odeint\n",
    "from scipy.optimize import least_squares\n",
    "import math\n",
    "import pandas as pd\n",
    "import csv\n",
    "from scipy import stats\n",
    "from scipy import optimize\n",
    "from datetime import date, timedelta\n",
    "import random\n",
    "import requests\n",
    "from scipy.stats import truncnorm\n",
    "import datetime\n",
    "\n",
    "import statsmodels as sm\n",
    "#import statsmodels.api as sm\n",
    "\n",
    "from PIL import Image\n",
    "from scipy.stats import norm"
   ]
  },
  {
   "cell_type": "markdown",
   "metadata": {},
   "source": [
    "# Read data"
   ]
  },
  {
   "cell_type": "markdown",
   "metadata": {},
   "source": [
    "## Cases"
   ]
  },
  {
   "cell_type": "code",
   "execution_count": 2,
   "metadata": {},
   "outputs": [],
   "source": [
    "df = pd.read_csv('/Users/julianeoliveira/Desktop/dropbox_15_11_2019/Artigos_preprints/COVID19/Paper_submissions/Paper2/Assessing-the-nationwide-impact-of-COVID-19-mitigation-policies-on-the-transmission-rate-of-SARS-CoV/data/covid.csv')"
   ]
  },
  {
   "cell_type": "markdown",
   "metadata": {},
   "source": [
    "## Population"
   ]
  },
  {
   "cell_type": "code",
   "execution_count": 3,
   "metadata": {},
   "outputs": [],
   "source": [
    "pop = pd.read_csv('/Users/julianeoliveira/Desktop/dropbox_15_11_2019/Artigos_preprints/COVID19/Paper_submissions/Paper2/Assessing-the-nationwide-impact-of-COVID-19-mitigation-policies-on-the-transmission-rate-of-SARS-CoV/results/seiir_bootstrap/populacao_municipio.csv')"
   ]
  },
  {
   "cell_type": "markdown",
   "metadata": {},
   "source": [
    "## Mobility data"
   ]
  },
  {
   "cell_type": "code",
   "execution_count": 16,
   "metadata": {},
   "outputs": [],
   "source": [
    "mob = pd.read_excel('/Users/julianeoliveira/Desktop/dropbox_15_11_2019/Artigos_preprints/COVID19/Paper_submissions/Paper2/Assessing-the-nationwide-impact-of-COVID-19-mitigation-policies-on-the-transmission-rate-of-SARS-CoV/data/Social_Distancing_Index_by_States_0106.xlsx')"
   ]
  },
  {
   "cell_type": "markdown",
   "metadata": {},
   "source": [
    "# Create dataframe to analyse the following time series:\n",
    "\n",
    "    * Daily number of cases\n",
    "    * Acumulated number of cases\n",
    "    * SMRI\n",
    "    * Stringency\n",
    "    * Rt"
   ]
  },
  {
   "cell_type": "code",
   "execution_count": 5,
   "metadata": {},
   "outputs": [],
   "source": [
    "df = df[df.date <= '2020-05-22']"
   ]
  },
  {
   "cell_type": "code",
   "execution_count": 12,
   "metadata": {},
   "outputs": [
    {
     "data": {
      "text/html": [
       "<div>\n",
       "<style scoped>\n",
       "    .dataframe tbody tr th:only-of-type {\n",
       "        vertical-align: middle;\n",
       "    }\n",
       "\n",
       "    .dataframe tbody tr th {\n",
       "        vertical-align: top;\n",
       "    }\n",
       "\n",
       "    .dataframe thead th {\n",
       "        text-align: right;\n",
       "    }\n",
       "</style>\n",
       "<table border=\"1\" class=\"dataframe\">\n",
       "  <thead>\n",
       "    <tr style=\"text-align: right;\">\n",
       "      <th></th>\n",
       "      <th>epidemiological_week</th>\n",
       "      <th>date</th>\n",
       "      <th>order_for_place</th>\n",
       "      <th>state</th>\n",
       "      <th>city</th>\n",
       "      <th>city_ibge_code</th>\n",
       "      <th>place_type</th>\n",
       "      <th>last_available_confirmed</th>\n",
       "      <th>last_available_confirmed_per_100k_inhabitants</th>\n",
       "      <th>new_confirmed</th>\n",
       "      <th>last_available_deaths</th>\n",
       "      <th>new_deaths</th>\n",
       "      <th>last_available_death_rate</th>\n",
       "      <th>estimated_population_2019</th>\n",
       "      <th>is_last</th>\n",
       "      <th>is_repeated</th>\n",
       "    </tr>\n",
       "  </thead>\n",
       "  <tbody>\n",
       "    <tr>\n",
       "      <th>40820</th>\n",
       "      <td>21</td>\n",
       "      <td>2020-05-22</td>\n",
       "      <td>55</td>\n",
       "      <td>AC</td>\n",
       "      <td>Acrelândia</td>\n",
       "      <td>1200013.0</td>\n",
       "      <td>city</td>\n",
       "      <td>119</td>\n",
       "      <td>780.02098</td>\n",
       "      <td>20</td>\n",
       "      <td>1</td>\n",
       "      <td>0</td>\n",
       "      <td>0.0084</td>\n",
       "      <td>15256.0</td>\n",
       "      <td>False</td>\n",
       "      <td>False</td>\n",
       "    </tr>\n",
       "    <tr>\n",
       "      <th>40821</th>\n",
       "      <td>21</td>\n",
       "      <td>2020-05-22</td>\n",
       "      <td>22</td>\n",
       "      <td>AC</td>\n",
       "      <td>Assis Brasil</td>\n",
       "      <td>1200054.0</td>\n",
       "      <td>city</td>\n",
       "      <td>7</td>\n",
       "      <td>94.37778</td>\n",
       "      <td>0</td>\n",
       "      <td>1</td>\n",
       "      <td>0</td>\n",
       "      <td>0.1429</td>\n",
       "      <td>7417.0</td>\n",
       "      <td>False</td>\n",
       "      <td>False</td>\n",
       "    </tr>\n",
       "    <tr>\n",
       "      <th>40822</th>\n",
       "      <td>21</td>\n",
       "      <td>2020-05-22</td>\n",
       "      <td>14</td>\n",
       "      <td>AC</td>\n",
       "      <td>Brasiléia</td>\n",
       "      <td>1200104.0</td>\n",
       "      <td>city</td>\n",
       "      <td>29</td>\n",
       "      <td>110.35847</td>\n",
       "      <td>6</td>\n",
       "      <td>0</td>\n",
       "      <td>0</td>\n",
       "      <td>0.0000</td>\n",
       "      <td>26278.0</td>\n",
       "      <td>False</td>\n",
       "      <td>False</td>\n",
       "    </tr>\n",
       "    <tr>\n",
       "      <th>40823</th>\n",
       "      <td>21</td>\n",
       "      <td>2020-05-22</td>\n",
       "      <td>45</td>\n",
       "      <td>AC</td>\n",
       "      <td>Bujari</td>\n",
       "      <td>1200138.0</td>\n",
       "      <td>city</td>\n",
       "      <td>24</td>\n",
       "      <td>233.78141</td>\n",
       "      <td>3</td>\n",
       "      <td>0</td>\n",
       "      <td>0</td>\n",
       "      <td>0.0000</td>\n",
       "      <td>10266.0</td>\n",
       "      <td>False</td>\n",
       "      <td>False</td>\n",
       "    </tr>\n",
       "    <tr>\n",
       "      <th>40824</th>\n",
       "      <td>21</td>\n",
       "      <td>2020-05-22</td>\n",
       "      <td>15</td>\n",
       "      <td>AC</td>\n",
       "      <td>Capixaba</td>\n",
       "      <td>1200179.0</td>\n",
       "      <td>city</td>\n",
       "      <td>13</td>\n",
       "      <td>110.79860</td>\n",
       "      <td>0</td>\n",
       "      <td>0</td>\n",
       "      <td>0</td>\n",
       "      <td>0.0000</td>\n",
       "      <td>11733.0</td>\n",
       "      <td>False</td>\n",
       "      <td>False</td>\n",
       "    </tr>\n",
       "  </tbody>\n",
       "</table>\n",
       "</div>"
      ],
      "text/plain": [
       "       epidemiological_week        date  order_for_place state          city  \\\n",
       "40820                    21  2020-05-22               55    AC    Acrelândia   \n",
       "40821                    21  2020-05-22               22    AC  Assis Brasil   \n",
       "40822                    21  2020-05-22               14    AC     Brasiléia   \n",
       "40823                    21  2020-05-22               45    AC        Bujari   \n",
       "40824                    21  2020-05-22               15    AC      Capixaba   \n",
       "\n",
       "       city_ibge_code place_type  last_available_confirmed  \\\n",
       "40820       1200013.0       city                       119   \n",
       "40821       1200054.0       city                         7   \n",
       "40822       1200104.0       city                        29   \n",
       "40823       1200138.0       city                        24   \n",
       "40824       1200179.0       city                        13   \n",
       "\n",
       "       last_available_confirmed_per_100k_inhabitants  new_confirmed  \\\n",
       "40820                                      780.02098             20   \n",
       "40821                                       94.37778              0   \n",
       "40822                                      110.35847              6   \n",
       "40823                                      233.78141              3   \n",
       "40824                                      110.79860              0   \n",
       "\n",
       "       last_available_deaths  new_deaths  last_available_death_rate  \\\n",
       "40820                      1           0                     0.0084   \n",
       "40821                      1           0                     0.1429   \n",
       "40822                      0           0                     0.0000   \n",
       "40823                      0           0                     0.0000   \n",
       "40824                      0           0                     0.0000   \n",
       "\n",
       "       estimated_population_2019  is_last  is_repeated  \n",
       "40820                    15256.0    False        False  \n",
       "40821                     7417.0    False        False  \n",
       "40822                    26278.0    False        False  \n",
       "40823                    10266.0    False        False  \n",
       "40824                    11733.0    False        False  "
      ]
     },
     "execution_count": 12,
     "metadata": {},
     "output_type": "execute_result"
    }
   ],
   "source": [
    "df.head()"
   ]
  },
  {
   "cell_type": "code",
   "execution_count": 8,
   "metadata": {},
   "outputs": [],
   "source": [
    "sig_uf = []\n",
    "for value in mob.state_name:\n",
    "    if value == 'Minas Gerais': value = 'MG'\n",
    "    elif value == 'Ceará': value = 'CE'\n",
    "    elif value == 'Pernambuco': value = 'PE'\n",
    "    elif value == 'Mato Grosso do Sul': value = 'MS'\n",
    "    elif value == 'Rio Grande do Sul': value = 'RS'\n",
    "    elif value == 'Sergipe': value = 'SE'\n",
    "    elif value == 'Rio Grande do Norte': value = 'RN'\n",
    "    elif value == 'Acre': value = 'AC'\n",
    "    elif value == 'Alagoas': value = 'AL'\n",
    "    elif value == 'Bahia': value = 'BA'\n",
    "    elif value == 'Rondônia': value = 'RO'\n",
    "    elif value == 'Rio de Janeiro': value = 'RJ'\n",
    "    elif value == 'Piauí': value = 'PI'\n",
    "    elif value == 'Paraná': value = 'PR'\n",
    "    elif value == 'Espírito Santo': value = 'ES'\n",
    "    elif value == 'Pará': value = 'PA'\n",
    "    elif value == 'Amapá': value = 'AP'\n",
    "    elif value == 'Mato Grosso': value = 'MT'\n",
    "    elif value == 'Paraíba': value = 'PB'\n",
    "    elif value == 'Roraima': value = 'RR'\n",
    "    elif value == 'Goiás': value = 'GO'\n",
    "    elif value == 'São Paulo': value = 'SP'\n",
    "    elif value == 'Distrito Federal': value = 'DF'\n",
    "    elif value == 'Maranhão': value = 'MA'\n",
    "    elif value == 'Santa Catarina': value = 'SC'\n",
    "    elif value == 'Tocantins': value = 'TO'\n",
    "    elif value == 'Amazonas': value = 'AM'\n",
    "    sig_uf.extend([value])"
   ]
  },
  {
   "cell_type": "code",
   "execution_count": 9,
   "metadata": {},
   "outputs": [],
   "source": [
    "mob['sig_uf'] = sig_uf"
   ]
  },
  {
   "cell_type": "code",
   "execution_count": 10,
   "metadata": {},
   "outputs": [],
   "source": [
    "mob = mob[(mob.dt >= '2020-02-25') & (mob.dt <= '2020-05-22')]"
   ]
  },
  {
   "cell_type": "code",
   "execution_count": 13,
   "metadata": {},
   "outputs": [
    {
     "data": {
      "text/html": [
       "<div>\n",
       "<style scoped>\n",
       "    .dataframe tbody tr th:only-of-type {\n",
       "        vertical-align: middle;\n",
       "    }\n",
       "\n",
       "    .dataframe tbody tr th {\n",
       "        vertical-align: top;\n",
       "    }\n",
       "\n",
       "    .dataframe thead th {\n",
       "        text-align: right;\n",
       "    }\n",
       "</style>\n",
       "<table border=\"1\" class=\"dataframe\">\n",
       "  <thead>\n",
       "    <tr style=\"text-align: right;\">\n",
       "      <th></th>\n",
       "      <th>state_name</th>\n",
       "      <th>isolated</th>\n",
       "      <th>dt</th>\n",
       "      <th>sig_uf</th>\n",
       "    </tr>\n",
       "  </thead>\n",
       "  <tbody>\n",
       "    <tr>\n",
       "      <th>0</th>\n",
       "      <td>Minas Gerais</td>\n",
       "      <td>0.270020</td>\n",
       "      <td>2020-02-27</td>\n",
       "      <td>MG</td>\n",
       "    </tr>\n",
       "    <tr>\n",
       "      <th>1</th>\n",
       "      <td>Ceará</td>\n",
       "      <td>0.286426</td>\n",
       "      <td>2020-02-27</td>\n",
       "      <td>CE</td>\n",
       "    </tr>\n",
       "    <tr>\n",
       "      <th>2</th>\n",
       "      <td>Pernambuco</td>\n",
       "      <td>0.271787</td>\n",
       "      <td>2020-02-27</td>\n",
       "      <td>PE</td>\n",
       "    </tr>\n",
       "    <tr>\n",
       "      <th>3</th>\n",
       "      <td>Mato Grosso do Sul</td>\n",
       "      <td>0.272699</td>\n",
       "      <td>2020-02-27</td>\n",
       "      <td>MS</td>\n",
       "    </tr>\n",
       "    <tr>\n",
       "      <th>4</th>\n",
       "      <td>Rio Grande do Sul</td>\n",
       "      <td>0.269480</td>\n",
       "      <td>2020-02-27</td>\n",
       "      <td>RS</td>\n",
       "    </tr>\n",
       "  </tbody>\n",
       "</table>\n",
       "</div>"
      ],
      "text/plain": [
       "           state_name  isolated         dt sig_uf\n",
       "0        Minas Gerais  0.270020 2020-02-27     MG\n",
       "1               Ceará  0.286426 2020-02-27     CE\n",
       "2          Pernambuco  0.271787 2020-02-27     PE\n",
       "3  Mato Grosso do Sul  0.272699 2020-02-27     MS\n",
       "4   Rio Grande do Sul  0.269480 2020-02-27     RS"
      ]
     },
     "execution_count": 13,
     "metadata": {},
     "output_type": "execute_result"
    }
   ],
   "source": [
    "mob.head()"
   ]
  },
  {
   "cell_type": "code",
   "execution_count": 11,
   "metadata": {},
   "outputs": [],
   "source": [
    "series_state = df.groupby(['state', 'date'])['new_confirmed'].sum().reset_index()"
   ]
  },
  {
   "cell_type": "code",
   "execution_count": 14,
   "metadata": {},
   "outputs": [
    {
     "data": {
      "text/html": [
       "<div>\n",
       "<style scoped>\n",
       "    .dataframe tbody tr th:only-of-type {\n",
       "        vertical-align: middle;\n",
       "    }\n",
       "\n",
       "    .dataframe tbody tr th {\n",
       "        vertical-align: top;\n",
       "    }\n",
       "\n",
       "    .dataframe thead th {\n",
       "        text-align: right;\n",
       "    }\n",
       "</style>\n",
       "<table border=\"1\" class=\"dataframe\">\n",
       "  <thead>\n",
       "    <tr style=\"text-align: right;\">\n",
       "      <th></th>\n",
       "      <th>state</th>\n",
       "      <th>date</th>\n",
       "      <th>new_confirmed</th>\n",
       "    </tr>\n",
       "  </thead>\n",
       "  <tbody>\n",
       "    <tr>\n",
       "      <th>0</th>\n",
       "      <td>AC</td>\n",
       "      <td>2020-03-17</td>\n",
       "      <td>3</td>\n",
       "    </tr>\n",
       "    <tr>\n",
       "      <th>1</th>\n",
       "      <td>AC</td>\n",
       "      <td>2020-03-18</td>\n",
       "      <td>0</td>\n",
       "    </tr>\n",
       "    <tr>\n",
       "      <th>2</th>\n",
       "      <td>AC</td>\n",
       "      <td>2020-03-19</td>\n",
       "      <td>1</td>\n",
       "    </tr>\n",
       "    <tr>\n",
       "      <th>3</th>\n",
       "      <td>AC</td>\n",
       "      <td>2020-03-20</td>\n",
       "      <td>3</td>\n",
       "    </tr>\n",
       "    <tr>\n",
       "      <th>4</th>\n",
       "      <td>AC</td>\n",
       "      <td>2020-03-21</td>\n",
       "      <td>4</td>\n",
       "    </tr>\n",
       "  </tbody>\n",
       "</table>\n",
       "</div>"
      ],
      "text/plain": [
       "  state        date  new_confirmed\n",
       "0    AC  2020-03-17              3\n",
       "1    AC  2020-03-18              0\n",
       "2    AC  2020-03-19              1\n",
       "3    AC  2020-03-20              3\n",
       "4    AC  2020-03-21              4"
      ]
     },
     "execution_count": 14,
     "metadata": {},
     "output_type": "execute_result"
    }
   ],
   "source": [
    "series_state.head()"
   ]
  },
  {
   "cell_type": "code",
   "execution_count": null,
   "metadata": {},
   "outputs": [],
   "source": []
  },
  {
   "cell_type": "code",
   "execution_count": null,
   "metadata": {
    "scrolled": false
   },
   "outputs": [],
   "source": [
    "for value in mob.sig_uf:\n",
    "    s = value\n",
    "    \n",
    "    print(s)\n",
    "    \n",
    "    cases = series_state[series_state.state == s]\n",
    "    \n",
    "    cases['cumulative'] = cases.new_confirmed.cumsum()\n",
    "    \n",
    "    mobs = mob[mob.sig_uf == s][(mob[mob.sig_uf == s].dt >= cases.iloc[0,1])]\n",
    "    \n",
    "    r, p = stats.pearsonr(cases.dropna()['new_confirmed']/sum(cases.dropna()['new_confirmed']), mobs.dropna()['isolated'])\n",
    "    print(f\"Scipy computed Pearson r: {r} and p-value: {p}\")\n",
    "    \n",
    "    cases['isolated'] = np.array(mobs.isolated)\n",
    "    \n",
    "    casesLog = np.log(cases.filter(['new_confirmed','cumulative','isolated']))\n",
    "    casesLog = casesLog.replace([np.inf, -np.inf], np.nan).fillna(0)\n",
    "    \n",
    "    cases['cumLog'] = casesLog.cumulative\n",
    "    \n",
    "    import functools\n",
    "    cases.filter(['isolated','cumLog']).apply(functools.partial(test_stationarity))\n",
    "    \n",
    "    plt.scatter(cases.cumLog,cases.isolated, marker='o')\n",
    "    \n",
    "    model = VAR(cases.filter(['isolated','cumLog']))\n",
    "    \n",
    "    model1 = model.select_order()\n",
    "    print(model1.summary())\n",
    "    \n",
    "    xcov = [crosscorr(cases.isolated, cases.cumLog, lag=i) for i in range(20)]\n",
    "    print(xcov)\n",
    "    \n",
    "    x= cases.isolated \n",
    "    y= cases.cumLog\n",
    "\n",
    "    n =len(x)\n",
    "    l1 = (-1/n) + (2/math.sqrt(n))\n",
    "\n",
    "    fig, ax1 = plt.subplots(1, 1, sharex=True)\n",
    "    ax1.xcorr(x, y, usevlines=True, maxlags=None, normed=True, lw=2)\n",
    "\n",
    "    ax1.axhline(l1, color='blue', linestyle='dashed', lw=1)\n",
    "\n",
    "    ax1.grid(True)\n",
    "\n",
    "    #ax2.acorr(x, usevlines=True, normed=True, maxlags=None, lw=2)\n",
    "    #ax2.grid(True)\n",
    "\n",
    "\n",
    "    plt.show()"
   ]
  },
  {
   "cell_type": "code",
   "execution_count": null,
   "metadata": {},
   "outputs": [],
   "source": [
    "import datetime\n",
    "days = 90\n",
    "datetime.datetime(2020, 1, 1) + datetime.timedelta(days - 1)"
   ]
  },
  {
   "cell_type": "code",
   "execution_count": null,
   "metadata": {},
   "outputs": [],
   "source": [
    "days = 25\n",
    "datetime.datetime(2020, 3, 6) + datetime.timedelta(days - 1)"
   ]
  },
  {
   "cell_type": "code",
   "execution_count": null,
   "metadata": {
    "scrolled": true
   },
   "outputs": [],
   "source": [
    "cases.head()"
   ]
  },
  {
   "cell_type": "code",
   "execution_count": null,
   "metadata": {
    "scrolled": true
   },
   "outputs": [],
   "source": [
    "cases['cumulative'] = cases.new_confirmed.cumsum()"
   ]
  },
  {
   "cell_type": "code",
   "execution_count": null,
   "metadata": {
    "scrolled": true
   },
   "outputs": [],
   "source": [
    "mobs = mob[mob.sig_uf == s][(mob[mob.sig_uf == s].dt >= cases.iloc[0,1])]"
   ]
  },
  {
   "cell_type": "code",
   "execution_count": null,
   "metadata": {},
   "outputs": [],
   "source": [
    "mobs.head(1)"
   ]
  },
  {
   "cell_type": "code",
   "execution_count": null,
   "metadata": {
    "scrolled": false
   },
   "outputs": [],
   "source": [
    "r, p = stats.pearsonr(cases.dropna()['new_confirmed']/sum(cases.dropna()['new_confirmed']), mobs.dropna()['isolated'])\n",
    "print(f\"Scipy computed Pearson r: {r} and p-value: {p}\")"
   ]
  },
  {
   "cell_type": "code",
   "execution_count": null,
   "metadata": {},
   "outputs": [],
   "source": [
    "cases['isolated'] = np.array(mobs.isolated)"
   ]
  },
  {
   "cell_type": "code",
   "execution_count": null,
   "metadata": {},
   "outputs": [],
   "source": [
    "cases"
   ]
  },
  {
   "cell_type": "code",
   "execution_count": null,
   "metadata": {
    "scrolled": true
   },
   "outputs": [],
   "source": [
    "casesLog = np.log(cases.filter(['new_confirmed','cumulative','isolated']))\n",
    "casesLog = casesLog.replace([np.inf, -np.inf], np.nan).fillna(0)"
   ]
  },
  {
   "cell_type": "code",
   "execution_count": null,
   "metadata": {
    "scrolled": true
   },
   "outputs": [],
   "source": [
    "casesLog.head(1)"
   ]
  },
  {
   "cell_type": "code",
   "execution_count": null,
   "metadata": {
    "scrolled": false
   },
   "outputs": [],
   "source": [
    "cases['cumLog'] = casesLog.cumulative"
   ]
  },
  {
   "cell_type": "code",
   "execution_count": null,
   "metadata": {},
   "outputs": [],
   "source": [
    "from statsmodels.tsa.stattools import adfuller\n",
    "def test_stationarity(timeseries):\n",
    "    \n",
    "    #Perform Dickey-Fuller test:\n",
    "    print ('Results of Dickey-Fuller Test:')\n",
    "    dftest = adfuller(timeseries, autolag='AIC')\n",
    "    dfoutput = pd.Series(dftest[0:4], index=['Test Statistic','p-value','#Lags Used','Number of Observations Used'])\n",
    "    for key,value in dftest[4].items():\n",
    "        dfoutput['Critical Value (%s)'%key] = value\n",
    "    print (dfoutput)"
   ]
  },
  {
   "cell_type": "code",
   "execution_count": null,
   "metadata": {
    "scrolled": false
   },
   "outputs": [],
   "source": [
    "import functools\n",
    "cases.filter(['isolated','cumLog']).apply(functools.partial(test_stationarity))"
   ]
  },
  {
   "cell_type": "code",
   "execution_count": null,
   "metadata": {
    "scrolled": true
   },
   "outputs": [],
   "source": [
    "plt.scatter(cases.cumLog,cases.isolated, marker='o')"
   ]
  },
  {
   "cell_type": "code",
   "execution_count": null,
   "metadata": {},
   "outputs": [],
   "source": [
    "from statsmodels.tsa.vector_ar.var_model import VAR\n",
    "\n",
    "model = VAR(cases.filter(['isolated','cumLog']))"
   ]
  },
  {
   "cell_type": "code",
   "execution_count": null,
   "metadata": {},
   "outputs": [],
   "source": [
    "# Best model order (automatic selection)\n",
    "model1 = model.select_order()\n",
    "model1.summary()"
   ]
  },
  {
   "cell_type": "code",
   "execution_count": null,
   "metadata": {},
   "outputs": [],
   "source": [
    "def crosscorr(datax, datay, lag=0):\n",
    "    \"\"\" Lag-N cross correlation. \n",
    "    Parameters\n",
    "    ----------\n",
    "    lag : int, default 0\n",
    "    datax, datay : pandas.Series objects of equal length\n",
    "\n",
    "    Returns\n",
    "    ----------\n",
    "    crosscorr : float\n",
    "    \"\"\"\n",
    "    return datax.corr(datay.shift(lag))"
   ]
  },
  {
   "cell_type": "code",
   "execution_count": null,
   "metadata": {},
   "outputs": [],
   "source": [
    "len(cases.isolated)"
   ]
  },
  {
   "cell_type": "code",
   "execution_count": null,
   "metadata": {},
   "outputs": [],
   "source": [
    "xcov = [crosscorr(cases.isolated, cases.cumLog, lag=i) for i in range(12)]\n",
    "xcov"
   ]
  },
  {
   "cell_type": "code",
   "execution_count": null,
   "metadata": {},
   "outputs": [],
   "source": [
    "# Fixing random state for reproducibility\n",
    "\n",
    "x= cases.isolated \n",
    "y= cases.cumLog\n",
    "\n",
    "n =len(x)\n",
    "l1 = (-1/n) + (2/math.sqrt(n))\n",
    "\n",
    "fig, [ax1, ax2] = plt.subplots(2, 1, sharex=True)\n",
    "ax1.xcorr(x, y, usevlines=True, maxlags=None, normed=True, lw=2)\n",
    "\n",
    "ax1.axhline(l1, color='blue', linestyle='dashed', lw=1)\n",
    "\n",
    "ax1.grid(True)\n",
    "\n",
    "ax2.acorr(x, usevlines=True, normed=True, maxlags=None, lw=2)\n",
    "ax2.grid(True)\n",
    "\n",
    "\n",
    "plt.show()"
   ]
  },
  {
   "cell_type": "code",
   "execution_count": null,
   "metadata": {},
   "outputs": [],
   "source": [
    "r, p = stats.pearsonr(casesLog.dropna()['cumulative'], cases.dropna()['isolated'])\n",
    "print(f\"Scipy computed Pearson r: {r} and p-value: {p}\")"
   ]
  },
  {
   "cell_type": "code",
   "execution_count": null,
   "metadata": {},
   "outputs": [],
   "source": [
    "AC Scipy computed Pearson r: -0.04628281185786891 and p-value: 0.7099590018140384\n",
    "        \n",
    "CE Scipy computed Pearson r: 0.09147087633004868 and p-value: 0.45817151024268354\n",
    "        \n"
   ]
  },
  {
   "cell_type": "markdown",
   "metadata": {},
   "source": [
    "# Analysis of the fit results"
   ]
  },
  {
   "cell_type": "code",
   "execution_count": null,
   "metadata": {},
   "outputs": [],
   "source": [
    "df = pd.read_csv('/media/juliane_oliveira/My Passport/dropbox_15_11_2019/Artigos_preprints/COVID19/Paper_submissions/Paper2/First review/Data and code analisys/outputs_testing/test_seiir_fits_boots.csv')"
   ]
  },
  {
   "cell_type": "code",
   "execution_count": null,
   "metadata": {
    "scrolled": false
   },
   "outputs": [],
   "source": [
    "df.head()"
   ]
  },
  {
   "cell_type": "code",
   "execution_count": null,
   "metadata": {},
   "outputs": [],
   "source": [
    "import scipy.stats\n",
    "\n",
    "\n",
    "def mean_confidence_interval(data, confidence=0.95):\n",
    "    a = 1.0 * np.array(data)\n",
    "    n = len(a)\n",
    "    m, se = np.median(a), scipy.stats.sem(a)\n",
    "    h = se * scipy.stats.skewnorm.ppf((1 + confidence) / 2., n-1)\n",
    "    return m, m-h, m+h\n"
   ]
  },
  {
   "cell_type": "code",
   "execution_count": null,
   "metadata": {
    "scrolled": true
   },
   "outputs": [],
   "source": [
    "lista = [ 'beta0_ls', 'beta0_ml', 'beta1_ls','beta1_ml', 'tcut_ls', 'tcut_ml', 'delta_ls', 'delta_ml', 'e0_ls',\n",
    "       'e0_ml', 'ia0_ls', 'ia0_ml', 'is0_ls', 'is0_ml']"
   ]
  },
  {
   "cell_type": "code",
   "execution_count": null,
   "metadata": {
    "scrolled": false
   },
   "outputs": [],
   "source": [
    "for value in lista:\n",
    "    print(value, mean_confidence_interval(df[value], confidence=0.95))"
   ]
  },
  {
   "cell_type": "code",
   "execution_count": null,
   "metadata": {},
   "outputs": [],
   "source": [
    "b = 1.62\n",
    "delta = 0.42\n",
    "p = 0.2\n",
    "gammaA = 1/3.5\n",
    "gammaS = 1/4"
   ]
  },
  {
   "cell_type": "code",
   "execution_count": null,
   "metadata": {},
   "outputs": [],
   "source": [
    "R0a = b*delta/gammaA\n",
    "\n",
    "R0s = b/gammaS\n",
    "\n",
    "R0_geral = p*R0s + (1-p)*R0a\n",
    "\n",
    "print(\"Número Reprodutivo {}.\".format(R0_geral))\n",
    "\n",
    "print(\"Número Reprodutivo dos sintomaticos {}.\".format(R0s))\n",
    "\n",
    "print(\"Número Reprodutivo dos assintomáticos {}.\".format(R0a))"
   ]
  },
  {
   "cell_type": "code",
   "execution_count": null,
   "metadata": {},
   "outputs": [],
   "source": [
    "import datetime\n",
    "days = 100\n",
    "datetime.datetime(2020, 1, 1) + datetime.timedelta(days - 1)"
   ]
  },
  {
   "cell_type": "code",
   "execution_count": null,
   "metadata": {},
   "outputs": [],
   "source": []
  },
  {
   "cell_type": "code",
   "execution_count": null,
   "metadata": {},
   "outputs": [],
   "source": []
  },
  {
   "cell_type": "code",
   "execution_count": null,
   "metadata": {},
   "outputs": [],
   "source": []
  },
  {
   "cell_type": "markdown",
   "metadata": {},
   "source": [
    "# Analises diversas"
   ]
  },
  {
   "cell_type": "code",
   "execution_count": null,
   "metadata": {},
   "outputs": [],
   "source": [
    "overall_pearson_r = new.corr().iloc[0,1]\n",
    "print(f\"Pandas computed Pearson r: {overall_pearson_r}\")\n",
    "\n",
    "# Compute rolling window synchrony\n",
    "f,ax=plt.subplots(figsize=(7,3))\n",
    "new.rolling(window=1,center=True).median().plot(ax=ax)\n",
    "ax.set(xlabel='Time',ylabel='Pearson r')\n",
    "ax.set(title=f\"Overall Pearson r = {np.round(overall_pearson_r,2)}\");"
   ]
  },
  {
   "cell_type": "code",
   "execution_count": null,
   "metadata": {
    "scrolled": false
   },
   "outputs": [],
   "source": [
    "# Set window size to compute moving window synchrony.\n",
    "r_window_size = 8\n",
    "# Interpolate missing data.\n",
    "df_interpolated = new.interpolate()\n",
    "# Compute rolling window synchrony\n",
    "rolling_r = df_interpolated['new_confirmed'].rolling(window=r_window_size, center=True).corr(df_interpolated['isolated'])\n",
    "f,ax=plt.subplots(2,1,figsize=(14,6),sharex=True)\n",
    "new.rolling(window=10,center=True).median().plot(ax=ax[0])\n",
    "ax[0].set(xlabel='Frame',ylabel='Smiling Evidence')\n",
    "rolling_r.plot(ax=ax[1])\n",
    "ax[1].set(xlabel='Frame',ylabel='Pearson r')\n",
    "plt.suptitle(\"Smiling data and rolling window correlation\")\n"
   ]
  },
  {
   "cell_type": "code",
   "execution_count": null,
   "metadata": {},
   "outputs": [],
   "source": [
    "from statsmodels.tsa.stattools import adfuller\n",
    "def test_stationarity(timeseries):\n",
    "    \n",
    "    #Perform Dickey-Fuller test:\n",
    "    print ('Results of Dickey-Fuller Test:')\n",
    "    dftest = adfuller(timeseries, autolag='AIC')\n",
    "    dfoutput = pd.Series(dftest[0:4], index=['Test Statistic','p-value','#Lags Used','Number of Observations Used'])\n",
    "    for key,value in dftest[4].items():\n",
    "        dfoutput['Critical Value (%s)'%key] = value\n",
    "    print (dfoutput)"
   ]
  },
  {
   "cell_type": "code",
   "execution_count": null,
   "metadata": {
    "scrolled": false
   },
   "outputs": [],
   "source": [
    "import functools\n",
    "new.apply(functools.partial(test_stationarity))"
   ]
  },
  {
   "cell_type": "code",
   "execution_count": null,
   "metadata": {
    "scrolled": true
   },
   "outputs": [],
   "source": [
    "newLog.apply(functools.partial(test_stationarity))"
   ]
  },
  {
   "cell_type": "code",
   "execution_count": null,
   "metadata": {
    "scrolled": true
   },
   "outputs": [],
   "source": [
    "# Differencing to get the data stationary\n",
    "newDiff = new.diff().dropna()\n",
    "newDiff"
   ]
  },
  {
   "cell_type": "code",
   "execution_count": null,
   "metadata": {
    "scrolled": false
   },
   "outputs": [],
   "source": [
    "newDiff.apply(functools.partial(test_stationarity))"
   ]
  },
  {
   "cell_type": "code",
   "execution_count": null,
   "metadata": {},
   "outputs": [],
   "source": [
    "newDiff = newDiff.apply(pd.to_numeric)"
   ]
  },
  {
   "cell_type": "code",
   "execution_count": null,
   "metadata": {
    "scrolled": true
   },
   "outputs": [],
   "source": [
    "from statsmodels.tsa.vector_ar.var_model import VAR\n",
    "\n",
    "model = VAR(newDiff)"
   ]
  },
  {
   "cell_type": "code",
   "execution_count": null,
   "metadata": {
    "scrolled": false
   },
   "outputs": [],
   "source": [
    "# Best model order (automatic selection)\n",
    "model1 = model.select_order()\n",
    "model1.summary()"
   ]
  },
  {
   "cell_type": "code",
   "execution_count": null,
   "metadata": {},
   "outputs": [],
   "source": [
    "#pip install --upgrade statsmodels\n",
    "\n",
    "#!pip install \"statsmodels==0.10.2\""
   ]
  },
  {
   "cell_type": "code",
   "execution_count": null,
   "metadata": {
    "scrolled": true
   },
   "outputs": [],
   "source": [
    "results = model.fit(maxlags=8, ic='aic')\n",
    "results.summary()"
   ]
  },
  {
   "cell_type": "code",
   "execution_count": null,
   "metadata": {},
   "outputs": [],
   "source": [
    "results.fittedvalues"
   ]
  },
  {
   "cell_type": "code",
   "execution_count": null,
   "metadata": {
    "scrolled": true
   },
   "outputs": [],
   "source": [
    "# Autocorrelation function (ACF) plot of the residuals with 2=pT bounds.\n",
    "results.plot_acorr()\n",
    "#fig.tight_layout()\n",
    "#plt.savefig('ACF_residual.pdf')\n"
   ]
  },
  {
   "cell_type": "code",
   "execution_count": null,
   "metadata": {},
   "outputs": [],
   "source": [
    "from pandas import read_csv\n",
    "from matplotlib import pyplot\n",
    "from statsmodels.graphics.tsaplots import plot_acf"
   ]
  },
  {
   "cell_type": "code",
   "execution_count": null,
   "metadata": {
    "scrolled": true
   },
   "outputs": [],
   "source": [
    "plot_acf(newLog.new_confirmed)"
   ]
  },
  {
   "cell_type": "code",
   "execution_count": null,
   "metadata": {
    "scrolled": true
   },
   "outputs": [],
   "source": [
    "from statsmodels.graphics.tsaplots import plot_pacf\n",
    "plot_pacf(new.new_confirmed, lags=50)"
   ]
  },
  {
   "cell_type": "code",
   "execution_count": null,
   "metadata": {},
   "outputs": [],
   "source": []
  },
  {
   "cell_type": "code",
   "execution_count": null,
   "metadata": {},
   "outputs": [],
   "source": []
  },
  {
   "cell_type": "code",
   "execution_count": null,
   "metadata": {},
   "outputs": [],
   "source": [
    "AC, Acre; AL, Alagoas; AP, Amapá; AM, Amazonas; BA, Bahia; CE, Ceará; \n",
    "\n",
    "DF, Distrito Federal; ES, Espírito Santo; GO, Goiás; MA, Maranhão; MT, Mato Grosso; \n",
    "\n",
    "MS, Mato Grosso do Sul; MG, Minas Gerais; PA, Pará; PB, Paraíba; PR, Paraná; PE, Pernambuco;\n",
    "\n",
    "PI, Piauí; RJ, Rio de Janeiro; RN, Rio Grande do Norte; RS, Rio Grande do Sul; \n",
    "\n",
    "RO, Rondônia; RR, Roraima; SC, Santa Catarina; SP, São Paulo; SE, Sergipe; TO, Tocantins.\n",
    "\n",
    "\n",
    "\n",
    "\n",
    "print('AC',   3343*100000/8.944700e+05)\n",
    "print('AL',     5300*100000/3.351092e+06)\n",
    "print('AM',    27038*100000/4.207714e+06)\n",
    "print('AP',    5655*100000/8.617730e+05)\n",
    "print('BA',    12558*100000/1.493042e+07)\n",
    "print('CE',    34573*100000/9.187886e+06)\n",
    "print('DF',     5948*100000/3.052546e+06)\n",
    "print('ES',     9520*100000/4.064052e+06)\n",
    "print('GO',    2344*100000/7.116143e+06)\n",
    "print('MA',    18767*100000/7.114598e+06)\n",
    "print('MG',     5995*100000/2.129267e+07)\n",
    "print('MS',      805*100000/2.809394e+06)\n",
    "print('MT',     1271*100000/3.526220e+06)\n",
    "print('PA',    22697*100000/8.690745e+06)\n",
    "print('PB',     6882*100000/4.039277e+06)\n",
    "print('PE',    25760*100000/9.617072e+06)\n",
    "print('PI',     3258*100000/3.280697e+06)\n",
    "print('PR',     2985*100000/1.151684e+07)\n",
    "print('RJ',    33589*100000/1.736619e+07)\n",
    "print('RN',     4598*100000/3.534165e+06)\n",
    "print('RO',     2774*100000/1.796460e+06)\n",
    "print('RR',     2296*100000/6.311810e+05)\n",
    "print('RS',     5918*100000/1.142297e+07)\n",
    "print('SC',     6458*100000/7.252502e+06)\n",
    "print('SE',     4922*100000/2.319032e+06)\n",
    "print('SP',    76871*100000/4.628933e+07)\n",
    "print('TO',     2430*100000/1.590248e+06)           "
   ]
  }
 ],
 "metadata": {
  "kernelspec": {
   "display_name": "Python 3",
   "language": "python",
   "name": "python3"
  },
  "language_info": {
   "codemirror_mode": {
    "name": "ipython",
    "version": 3
   },
   "file_extension": ".py",
   "mimetype": "text/x-python",
   "name": "python",
   "nbconvert_exporter": "python",
   "pygments_lexer": "ipython3",
   "version": "3.8.5"
  }
 },
 "nbformat": 4,
 "nbformat_minor": 2
}
